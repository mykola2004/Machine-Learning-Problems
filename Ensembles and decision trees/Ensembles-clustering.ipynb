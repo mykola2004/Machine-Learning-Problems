{
  "nbformat": 4,
  "nbformat_minor": 0,
  "metadata": {
    "colab": {
      "provenance": []
    },
    "kernelspec": {
      "name": "python3",
      "display_name": "Python 3"
    },
    "language_info": {
      "name": "python"
    }
  },
  "cells": [
    {
      "cell_type": "markdown",
      "source": [
        "**Introduction**  \n",
        "Target feature in dataset - **RainTomorrow**, it is binary feature, that takes on two states Yes or No. Thus, in this notebook will be dealt classification problem. Also will be performed data analysis, feature preparation, comparison of built models.\n",
        "\n",
        "**Independent features:**  \n",
        "Date - The date of observation\n",
        "\n",
        "Location - The common name of the location of the weather station\n",
        "\n",
        "MinTemp - The minimum temperature in degrees celsius\n",
        "\n",
        "MaxTemp - The maximum temperature in degrees celsius\n",
        "\n",
        "Rainfall - The amount of rainfall recorded for the day in mm\n",
        "\n",
        "Evaporation - The so-called Class A pan evaporation (mm) in the 24 hours to 9am\n",
        "\n",
        "Sunshine - The number of hours of bright sunshine in the day.\n",
        "\n",
        "WindGustDir - The direction of the strongest wind gust in the 24 hours to midnight\n",
        "\n",
        "WindGustSpeed - The speed (km/h) of the strongest wind gust in the 24 hours to midnight\n",
        "\n",
        "WindDir9am - Direction of the wind at 9am\n",
        "\n",
        "WindDir3pm - Direction of the wind at 3pm\n",
        "\n",
        "WindSpeed9am - Wind speed (km/hr) averaged over 10 minutes prior to 9am\n",
        "\n",
        "WindSpeed3pm - Wind speed (km/hr) averaged over 10 minutes prior to 3pm\n",
        "\n",
        "Humidity9am - Humidity (percent) at 9am\n",
        "\n",
        "Humidity3pm - Humidity (percent) at 3pm\n",
        "\n",
        "Pressure9am - Atmospheric pressure (hpa) reduced to mean sea level at 9am\n",
        "\n",
        "Pressure3pm - Atmospheric pressure (hpa) reduced to mean sea level at 3pm\n",
        "\n",
        "Cloud9am - Fraction of sky obscured by cloud at 9am. This is measured in \"oktas\", which are a unit of eigths. It records how many eigths of the sky are obscured by cloud. A 0 measure indicates completely clear sky whilst an 8 indicates that it is completely overcast.\n",
        "\n",
        "Cloud3pm - Fraction of sky obscured by cloud (in \"oktas\": eighths) at 3pm. See Cload9am for a description of the values\n",
        "\n",
        "Temp9am - Temperature (degrees C) at 9am\n",
        "\n",
        "Temp3pm - Temperature (degrees C) at 3pm\n",
        "\n",
        "RainToday - Boolean: 1 if precipitation (mm) in the 24 hours to 9am exceeds 1mm, otherwise 0\n",
        "\n",
        "**Target feature:**  \n",
        "RainTomorrow - The amount of next day rain in mm. Used to create response variable RainTomorrow. A kind of measure of the \"risk\"."
      ],
      "metadata": {
        "id": "khpa7UQ-Z2Vm"
      }
    },
    {
      "cell_type": "markdown",
      "source": [
        "**Loading libraries**"
      ],
      "metadata": {
        "id": "C4Gce3B5RYMv"
      }
    },
    {
      "cell_type": "code",
      "source": [
        "from google.colab import drive\n",
        "import seaborn as sns\n",
        "import matplotlib.pyplot as plt\n",
        "import pandas as pd\n",
        "import numpy as np\n",
        "from sklearn.metrics import classification_report, accuracy_score\n",
        "from sklearn.model_selection import GridSearchCV\n",
        "from sklearn.metrics import make_scorer, f1_score\n",
        "from sklearn.utils import resample\n",
        "from sklearn.ensemble import RandomForestClassifier\n",
        "from sklearn.tree import DecisionTreeClassifier\n",
        "from xgboost import XGBClassifier\n",
        "from sklearn.metrics import classification_report, accuracy_score"
      ],
      "metadata": {
        "id": "EZoO1iYgRZWH"
      },
      "execution_count": null,
      "outputs": []
    },
    {
      "cell_type": "markdown",
      "source": [
        "**First glance at dataset**"
      ],
      "metadata": {
        "id": "GaaTEx4URcPu"
      }
    },
    {
      "cell_type": "code",
      "source": [
        "drive.mount('/content/drive')\n",
        "\n",
        "file_path = '/content/drive/My Drive/Colab Notebooks/HW3/weatherAUS.csv'\n",
        "\n",
        "df = pd.read_csv(file_path, sep=',')\n",
        "df.head()"
      ],
      "metadata": {
        "colab": {
          "base_uri": "https://localhost:8080/",
          "height": 330
        },
        "id": "vx3jAdxiRjG_",
        "outputId": "86536910-c4cf-4c52-a10c-519bf5c52fd7"
      },
      "execution_count": null,
      "outputs": [
        {
          "output_type": "stream",
          "name": "stdout",
          "text": [
            "Drive already mounted at /content/drive; to attempt to forcibly remount, call drive.mount(\"/content/drive\", force_remount=True).\n"
          ]
        },
        {
          "output_type": "execute_result",
          "data": {
            "text/plain": [
              "         Date Location  MinTemp  MaxTemp  Rainfall  Evaporation  Sunshine  \\\n",
              "0  2008-12-01   Albury     13.4     22.9       0.6          NaN       NaN   \n",
              "1  2008-12-02   Albury      7.4     25.1       0.0          NaN       NaN   \n",
              "2  2008-12-03   Albury     12.9     25.7       0.0          NaN       NaN   \n",
              "3  2008-12-04   Albury      9.2     28.0       0.0          NaN       NaN   \n",
              "4  2008-12-05   Albury     17.5     32.3       1.0          NaN       NaN   \n",
              "\n",
              "  WindGustDir  WindGustSpeed WindDir9am WindDir3pm  WindSpeed9am  \\\n",
              "0           W           44.0          W        WNW          20.0   \n",
              "1         WNW           44.0        NNW        WSW           4.0   \n",
              "2         WSW           46.0          W        WSW          19.0   \n",
              "3          NE           24.0         SE          E          11.0   \n",
              "4           W           41.0        ENE         NW           7.0   \n",
              "\n",
              "   WindSpeed3pm  Humidity9am  Humidity3pm  Pressure9am  Pressure3pm  Cloud9am  \\\n",
              "0          24.0         71.0         22.0       1007.7       1007.1       8.0   \n",
              "1          22.0         44.0         25.0       1010.6       1007.8       NaN   \n",
              "2          26.0         38.0         30.0       1007.6       1008.7       NaN   \n",
              "3           9.0         45.0         16.0       1017.6       1012.8       NaN   \n",
              "4          20.0         82.0         33.0       1010.8       1006.0       7.0   \n",
              "\n",
              "   Cloud3pm  Temp9am  Temp3pm RainToday RainTomorrow  \n",
              "0       NaN     16.9     21.8        No           No  \n",
              "1       NaN     17.2     24.3        No           No  \n",
              "2       2.0     21.0     23.2        No           No  \n",
              "3       NaN     18.1     26.5        No           No  \n",
              "4       8.0     17.8     29.7        No           No  "
            ],
            "text/html": [
              "\n",
              "  <div id=\"df-ee5fa666-6aeb-474f-9ca9-d893598f2d4b\" class=\"colab-df-container\">\n",
              "    <div>\n",
              "<style scoped>\n",
              "    .dataframe tbody tr th:only-of-type {\n",
              "        vertical-align: middle;\n",
              "    }\n",
              "\n",
              "    .dataframe tbody tr th {\n",
              "        vertical-align: top;\n",
              "    }\n",
              "\n",
              "    .dataframe thead th {\n",
              "        text-align: right;\n",
              "    }\n",
              "</style>\n",
              "<table border=\"1\" class=\"dataframe\">\n",
              "  <thead>\n",
              "    <tr style=\"text-align: right;\">\n",
              "      <th></th>\n",
              "      <th>Date</th>\n",
              "      <th>Location</th>\n",
              "      <th>MinTemp</th>\n",
              "      <th>MaxTemp</th>\n",
              "      <th>Rainfall</th>\n",
              "      <th>Evaporation</th>\n",
              "      <th>Sunshine</th>\n",
              "      <th>WindGustDir</th>\n",
              "      <th>WindGustSpeed</th>\n",
              "      <th>WindDir9am</th>\n",
              "      <th>WindDir3pm</th>\n",
              "      <th>WindSpeed9am</th>\n",
              "      <th>WindSpeed3pm</th>\n",
              "      <th>Humidity9am</th>\n",
              "      <th>Humidity3pm</th>\n",
              "      <th>Pressure9am</th>\n",
              "      <th>Pressure3pm</th>\n",
              "      <th>Cloud9am</th>\n",
              "      <th>Cloud3pm</th>\n",
              "      <th>Temp9am</th>\n",
              "      <th>Temp3pm</th>\n",
              "      <th>RainToday</th>\n",
              "      <th>RainTomorrow</th>\n",
              "    </tr>\n",
              "  </thead>\n",
              "  <tbody>\n",
              "    <tr>\n",
              "      <th>0</th>\n",
              "      <td>2008-12-01</td>\n",
              "      <td>Albury</td>\n",
              "      <td>13.4</td>\n",
              "      <td>22.9</td>\n",
              "      <td>0.6</td>\n",
              "      <td>NaN</td>\n",
              "      <td>NaN</td>\n",
              "      <td>W</td>\n",
              "      <td>44.0</td>\n",
              "      <td>W</td>\n",
              "      <td>WNW</td>\n",
              "      <td>20.0</td>\n",
              "      <td>24.0</td>\n",
              "      <td>71.0</td>\n",
              "      <td>22.0</td>\n",
              "      <td>1007.7</td>\n",
              "      <td>1007.1</td>\n",
              "      <td>8.0</td>\n",
              "      <td>NaN</td>\n",
              "      <td>16.9</td>\n",
              "      <td>21.8</td>\n",
              "      <td>No</td>\n",
              "      <td>No</td>\n",
              "    </tr>\n",
              "    <tr>\n",
              "      <th>1</th>\n",
              "      <td>2008-12-02</td>\n",
              "      <td>Albury</td>\n",
              "      <td>7.4</td>\n",
              "      <td>25.1</td>\n",
              "      <td>0.0</td>\n",
              "      <td>NaN</td>\n",
              "      <td>NaN</td>\n",
              "      <td>WNW</td>\n",
              "      <td>44.0</td>\n",
              "      <td>NNW</td>\n",
              "      <td>WSW</td>\n",
              "      <td>4.0</td>\n",
              "      <td>22.0</td>\n",
              "      <td>44.0</td>\n",
              "      <td>25.0</td>\n",
              "      <td>1010.6</td>\n",
              "      <td>1007.8</td>\n",
              "      <td>NaN</td>\n",
              "      <td>NaN</td>\n",
              "      <td>17.2</td>\n",
              "      <td>24.3</td>\n",
              "      <td>No</td>\n",
              "      <td>No</td>\n",
              "    </tr>\n",
              "    <tr>\n",
              "      <th>2</th>\n",
              "      <td>2008-12-03</td>\n",
              "      <td>Albury</td>\n",
              "      <td>12.9</td>\n",
              "      <td>25.7</td>\n",
              "      <td>0.0</td>\n",
              "      <td>NaN</td>\n",
              "      <td>NaN</td>\n",
              "      <td>WSW</td>\n",
              "      <td>46.0</td>\n",
              "      <td>W</td>\n",
              "      <td>WSW</td>\n",
              "      <td>19.0</td>\n",
              "      <td>26.0</td>\n",
              "      <td>38.0</td>\n",
              "      <td>30.0</td>\n",
              "      <td>1007.6</td>\n",
              "      <td>1008.7</td>\n",
              "      <td>NaN</td>\n",
              "      <td>2.0</td>\n",
              "      <td>21.0</td>\n",
              "      <td>23.2</td>\n",
              "      <td>No</td>\n",
              "      <td>No</td>\n",
              "    </tr>\n",
              "    <tr>\n",
              "      <th>3</th>\n",
              "      <td>2008-12-04</td>\n",
              "      <td>Albury</td>\n",
              "      <td>9.2</td>\n",
              "      <td>28.0</td>\n",
              "      <td>0.0</td>\n",
              "      <td>NaN</td>\n",
              "      <td>NaN</td>\n",
              "      <td>NE</td>\n",
              "      <td>24.0</td>\n",
              "      <td>SE</td>\n",
              "      <td>E</td>\n",
              "      <td>11.0</td>\n",
              "      <td>9.0</td>\n",
              "      <td>45.0</td>\n",
              "      <td>16.0</td>\n",
              "      <td>1017.6</td>\n",
              "      <td>1012.8</td>\n",
              "      <td>NaN</td>\n",
              "      <td>NaN</td>\n",
              "      <td>18.1</td>\n",
              "      <td>26.5</td>\n",
              "      <td>No</td>\n",
              "      <td>No</td>\n",
              "    </tr>\n",
              "    <tr>\n",
              "      <th>4</th>\n",
              "      <td>2008-12-05</td>\n",
              "      <td>Albury</td>\n",
              "      <td>17.5</td>\n",
              "      <td>32.3</td>\n",
              "      <td>1.0</td>\n",
              "      <td>NaN</td>\n",
              "      <td>NaN</td>\n",
              "      <td>W</td>\n",
              "      <td>41.0</td>\n",
              "      <td>ENE</td>\n",
              "      <td>NW</td>\n",
              "      <td>7.0</td>\n",
              "      <td>20.0</td>\n",
              "      <td>82.0</td>\n",
              "      <td>33.0</td>\n",
              "      <td>1010.8</td>\n",
              "      <td>1006.0</td>\n",
              "      <td>7.0</td>\n",
              "      <td>8.0</td>\n",
              "      <td>17.8</td>\n",
              "      <td>29.7</td>\n",
              "      <td>No</td>\n",
              "      <td>No</td>\n",
              "    </tr>\n",
              "  </tbody>\n",
              "</table>\n",
              "</div>\n",
              "    <div class=\"colab-df-buttons\">\n",
              "\n",
              "  <div class=\"colab-df-container\">\n",
              "    <button class=\"colab-df-convert\" onclick=\"convertToInteractive('df-ee5fa666-6aeb-474f-9ca9-d893598f2d4b')\"\n",
              "            title=\"Convert this dataframe to an interactive table.\"\n",
              "            style=\"display:none;\">\n",
              "\n",
              "  <svg xmlns=\"http://www.w3.org/2000/svg\" height=\"24px\" viewBox=\"0 -960 960 960\">\n",
              "    <path d=\"M120-120v-720h720v720H120Zm60-500h600v-160H180v160Zm220 220h160v-160H400v160Zm0 220h160v-160H400v160ZM180-400h160v-160H180v160Zm440 0h160v-160H620v160ZM180-180h160v-160H180v160Zm440 0h160v-160H620v160Z\"/>\n",
              "  </svg>\n",
              "    </button>\n",
              "\n",
              "  <style>\n",
              "    .colab-df-container {\n",
              "      display:flex;\n",
              "      gap: 12px;\n",
              "    }\n",
              "\n",
              "    .colab-df-convert {\n",
              "      background-color: #E8F0FE;\n",
              "      border: none;\n",
              "      border-radius: 50%;\n",
              "      cursor: pointer;\n",
              "      display: none;\n",
              "      fill: #1967D2;\n",
              "      height: 32px;\n",
              "      padding: 0 0 0 0;\n",
              "      width: 32px;\n",
              "    }\n",
              "\n",
              "    .colab-df-convert:hover {\n",
              "      background-color: #E2EBFA;\n",
              "      box-shadow: 0px 1px 2px rgba(60, 64, 67, 0.3), 0px 1px 3px 1px rgba(60, 64, 67, 0.15);\n",
              "      fill: #174EA6;\n",
              "    }\n",
              "\n",
              "    .colab-df-buttons div {\n",
              "      margin-bottom: 4px;\n",
              "    }\n",
              "\n",
              "    [theme=dark] .colab-df-convert {\n",
              "      background-color: #3B4455;\n",
              "      fill: #D2E3FC;\n",
              "    }\n",
              "\n",
              "    [theme=dark] .colab-df-convert:hover {\n",
              "      background-color: #434B5C;\n",
              "      box-shadow: 0px 1px 3px 1px rgba(0, 0, 0, 0.15);\n",
              "      filter: drop-shadow(0px 1px 2px rgba(0, 0, 0, 0.3));\n",
              "      fill: #FFFFFF;\n",
              "    }\n",
              "  </style>\n",
              "\n",
              "    <script>\n",
              "      const buttonEl =\n",
              "        document.querySelector('#df-ee5fa666-6aeb-474f-9ca9-d893598f2d4b button.colab-df-convert');\n",
              "      buttonEl.style.display =\n",
              "        google.colab.kernel.accessAllowed ? 'block' : 'none';\n",
              "\n",
              "      async function convertToInteractive(key) {\n",
              "        const element = document.querySelector('#df-ee5fa666-6aeb-474f-9ca9-d893598f2d4b');\n",
              "        const dataTable =\n",
              "          await google.colab.kernel.invokeFunction('convertToInteractive',\n",
              "                                                    [key], {});\n",
              "        if (!dataTable) return;\n",
              "\n",
              "        const docLinkHtml = 'Like what you see? Visit the ' +\n",
              "          '<a target=\"_blank\" href=https://colab.research.google.com/notebooks/data_table.ipynb>data table notebook</a>'\n",
              "          + ' to learn more about interactive tables.';\n",
              "        element.innerHTML = '';\n",
              "        dataTable['output_type'] = 'display_data';\n",
              "        await google.colab.output.renderOutput(dataTable, element);\n",
              "        const docLink = document.createElement('div');\n",
              "        docLink.innerHTML = docLinkHtml;\n",
              "        element.appendChild(docLink);\n",
              "      }\n",
              "    </script>\n",
              "  </div>\n",
              "\n",
              "\n",
              "<div id=\"df-97d69e4a-5997-486b-a38d-6df888c45fde\">\n",
              "  <button class=\"colab-df-quickchart\" onclick=\"quickchart('df-97d69e4a-5997-486b-a38d-6df888c45fde')\"\n",
              "            title=\"Suggest charts\"\n",
              "            style=\"display:none;\">\n",
              "\n",
              "<svg xmlns=\"http://www.w3.org/2000/svg\" height=\"24px\"viewBox=\"0 0 24 24\"\n",
              "     width=\"24px\">\n",
              "    <g>\n",
              "        <path d=\"M19 3H5c-1.1 0-2 .9-2 2v14c0 1.1.9 2 2 2h14c1.1 0 2-.9 2-2V5c0-1.1-.9-2-2-2zM9 17H7v-7h2v7zm4 0h-2V7h2v10zm4 0h-2v-4h2v4z\"/>\n",
              "    </g>\n",
              "</svg>\n",
              "  </button>\n",
              "\n",
              "<style>\n",
              "  .colab-df-quickchart {\n",
              "      --bg-color: #E8F0FE;\n",
              "      --fill-color: #1967D2;\n",
              "      --hover-bg-color: #E2EBFA;\n",
              "      --hover-fill-color: #174EA6;\n",
              "      --disabled-fill-color: #AAA;\n",
              "      --disabled-bg-color: #DDD;\n",
              "  }\n",
              "\n",
              "  [theme=dark] .colab-df-quickchart {\n",
              "      --bg-color: #3B4455;\n",
              "      --fill-color: #D2E3FC;\n",
              "      --hover-bg-color: #434B5C;\n",
              "      --hover-fill-color: #FFFFFF;\n",
              "      --disabled-bg-color: #3B4455;\n",
              "      --disabled-fill-color: #666;\n",
              "  }\n",
              "\n",
              "  .colab-df-quickchart {\n",
              "    background-color: var(--bg-color);\n",
              "    border: none;\n",
              "    border-radius: 50%;\n",
              "    cursor: pointer;\n",
              "    display: none;\n",
              "    fill: var(--fill-color);\n",
              "    height: 32px;\n",
              "    padding: 0;\n",
              "    width: 32px;\n",
              "  }\n",
              "\n",
              "  .colab-df-quickchart:hover {\n",
              "    background-color: var(--hover-bg-color);\n",
              "    box-shadow: 0 1px 2px rgba(60, 64, 67, 0.3), 0 1px 3px 1px rgba(60, 64, 67, 0.15);\n",
              "    fill: var(--button-hover-fill-color);\n",
              "  }\n",
              "\n",
              "  .colab-df-quickchart-complete:disabled,\n",
              "  .colab-df-quickchart-complete:disabled:hover {\n",
              "    background-color: var(--disabled-bg-color);\n",
              "    fill: var(--disabled-fill-color);\n",
              "    box-shadow: none;\n",
              "  }\n",
              "\n",
              "  .colab-df-spinner {\n",
              "    border: 2px solid var(--fill-color);\n",
              "    border-color: transparent;\n",
              "    border-bottom-color: var(--fill-color);\n",
              "    animation:\n",
              "      spin 1s steps(1) infinite;\n",
              "  }\n",
              "\n",
              "  @keyframes spin {\n",
              "    0% {\n",
              "      border-color: transparent;\n",
              "      border-bottom-color: var(--fill-color);\n",
              "      border-left-color: var(--fill-color);\n",
              "    }\n",
              "    20% {\n",
              "      border-color: transparent;\n",
              "      border-left-color: var(--fill-color);\n",
              "      border-top-color: var(--fill-color);\n",
              "    }\n",
              "    30% {\n",
              "      border-color: transparent;\n",
              "      border-left-color: var(--fill-color);\n",
              "      border-top-color: var(--fill-color);\n",
              "      border-right-color: var(--fill-color);\n",
              "    }\n",
              "    40% {\n",
              "      border-color: transparent;\n",
              "      border-right-color: var(--fill-color);\n",
              "      border-top-color: var(--fill-color);\n",
              "    }\n",
              "    60% {\n",
              "      border-color: transparent;\n",
              "      border-right-color: var(--fill-color);\n",
              "    }\n",
              "    80% {\n",
              "      border-color: transparent;\n",
              "      border-right-color: var(--fill-color);\n",
              "      border-bottom-color: var(--fill-color);\n",
              "    }\n",
              "    90% {\n",
              "      border-color: transparent;\n",
              "      border-bottom-color: var(--fill-color);\n",
              "    }\n",
              "  }\n",
              "</style>\n",
              "\n",
              "  <script>\n",
              "    async function quickchart(key) {\n",
              "      const quickchartButtonEl =\n",
              "        document.querySelector('#' + key + ' button');\n",
              "      quickchartButtonEl.disabled = true;  // To prevent multiple clicks.\n",
              "      quickchartButtonEl.classList.add('colab-df-spinner');\n",
              "      try {\n",
              "        const charts = await google.colab.kernel.invokeFunction(\n",
              "            'suggestCharts', [key], {});\n",
              "      } catch (error) {\n",
              "        console.error('Error during call to suggestCharts:', error);\n",
              "      }\n",
              "      quickchartButtonEl.classList.remove('colab-df-spinner');\n",
              "      quickchartButtonEl.classList.add('colab-df-quickchart-complete');\n",
              "    }\n",
              "    (() => {\n",
              "      let quickchartButtonEl =\n",
              "        document.querySelector('#df-97d69e4a-5997-486b-a38d-6df888c45fde button');\n",
              "      quickchartButtonEl.style.display =\n",
              "        google.colab.kernel.accessAllowed ? 'block' : 'none';\n",
              "    })();\n",
              "  </script>\n",
              "</div>\n",
              "\n",
              "    </div>\n",
              "  </div>\n"
            ],
            "application/vnd.google.colaboratory.intrinsic+json": {
              "type": "dataframe",
              "variable_name": "df"
            }
          },
          "metadata": {},
          "execution_count": 53
        }
      ]
    },
    {
      "cell_type": "markdown",
      "source": [
        "Sorting instances by date in case they are not already."
      ],
      "metadata": {
        "id": "OXmU0tbWRtkH"
      }
    },
    {
      "cell_type": "code",
      "source": [
        "df['Date'] = pd.to_datetime(df['Date'])\n",
        "df = df.sort_values(by='Date', ascending=True)"
      ],
      "metadata": {
        "id": "-JrODimDRrpD"
      },
      "execution_count": null,
      "outputs": []
    },
    {
      "cell_type": "markdown",
      "source": [
        "Extrcated data from feature Date, it was seperated onto 3 other columns Year, Month and Day"
      ],
      "metadata": {
        "id": "bGTOMCzhRuZz"
      }
    },
    {
      "cell_type": "code",
      "source": [
        "df['Year'] = pd.to_datetime(df['Date']).dt.year\n",
        "df['Month'] = pd.to_datetime(df['Date']).dt.month\n",
        "df['Day'] = pd.to_datetime(df['Date']).dt.day\n",
        "df.drop('Date', axis=1, inplace=True)"
      ],
      "metadata": {
        "id": "zFgpxnkHRuqf"
      },
      "execution_count": null,
      "outputs": []
    },
    {
      "cell_type": "markdown",
      "source": [
        "**Missing values**"
      ],
      "metadata": {
        "id": "U6qzk87-R9on"
      }
    },
    {
      "cell_type": "code",
      "source": [
        "def print_missing_values_percentages(df):\n",
        "    for column in df.columns:\n",
        "        missing_percentage = df[column].isnull().mean() * 100\n",
        "        print(f\"{column}: {missing_percentage:.2f}%\")\n",
        "print_missing_values_percentages(df)"
      ],
      "metadata": {
        "colab": {
          "base_uri": "https://localhost:8080/"
        },
        "id": "_jo8zFWkSAJA",
        "outputId": "9d0dfa2c-ee17-4846-8cfc-77a78bd43733"
      },
      "execution_count": null,
      "outputs": [
        {
          "output_type": "stream",
          "name": "stdout",
          "text": [
            "Location: 0.00%\n",
            "MinTemp: 1.02%\n",
            "MaxTemp: 0.87%\n",
            "Rainfall: 2.24%\n",
            "Evaporation: 43.17%\n",
            "Sunshine: 48.01%\n",
            "WindGustDir: 7.10%\n",
            "WindGustSpeed: 7.06%\n",
            "WindDir9am: 7.26%\n",
            "WindDir3pm: 2.91%\n",
            "WindSpeed9am: 1.21%\n",
            "WindSpeed3pm: 2.11%\n",
            "Humidity9am: 1.82%\n",
            "Humidity3pm: 3.10%\n",
            "Pressure9am: 10.36%\n",
            "Pressure3pm: 10.33%\n",
            "Cloud9am: 38.42%\n",
            "Cloud3pm: 40.81%\n",
            "Temp9am: 1.21%\n",
            "Temp3pm: 2.48%\n",
            "RainToday: 2.24%\n",
            "RainTomorrow: 2.25%\n",
            "Year: 0.00%\n",
            "Month: 0.00%\n",
            "Day: 0.00%\n"
          ]
        }
      ]
    },
    {
      "cell_type": "markdown",
      "source": [
        "Can be seen that features Cloud9am, Cloud3pm, Sunshine, Evaporation are heavily corrupted with missing values. These featurtes will be dropped.   \n",
        "\n",
        "All other features contain missing values , but in less extent (<= 10%). Features Year, Month, Day do not contain missing data.\n",
        "\n",
        "In next section will be imputed missing values with strategy: impute missing value with value from previous instance with the same value for feature Location. If there were not such previous instance with valid value, missing value will be imputed from next instance with the same value for feature Location. Such techniques were applied to save the natural dependencies of features, and not to introduce outliers to data by imputing every missing value with median value.\n",
        "\n",
        "It could happen that after these techniques applied, missing values will still be presented in some features, nothing to do here, they will imputed with respectful median values of features(for numerical features) and with respectful mode values of features(for categorical features)."
      ],
      "metadata": {
        "id": "OoT5OjJdSErw"
      }
    },
    {
      "cell_type": "code",
      "source": [
        "columns_drop = ['Cloud9am', 'Cloud3pm', 'Sunshine', 'Evaporation']\n",
        "df = df.drop(columns=columns_drop)"
      ],
      "metadata": {
        "id": "oppd7JHFTjAE"
      },
      "execution_count": null,
      "outputs": []
    },
    {
      "cell_type": "code",
      "source": [
        "def impute_missing_values_by_location(df, location_column):\n",
        "    for column in df.columns:\n",
        "        if column != location_column:\n",
        "            df[column] = df.groupby(location_column)[column].apply(lambda group: group.fillna(method='ffill')).reset_index(level=0, drop=True)\n",
        "impute_missing_values_by_location(df, \"Location\")"
      ],
      "metadata": {
        "colab": {
          "base_uri": "https://localhost:8080/"
        },
        "id": "fJUtzgYhVBwX",
        "outputId": "f539c303-50c3-4278-abfc-ad35173c92e2"
      },
      "execution_count": null,
      "outputs": [
        {
          "output_type": "stream",
          "name": "stderr",
          "text": [
            "<ipython-input-59-106cdba5c3f1>:4: FutureWarning: Series.fillna with 'method' is deprecated and will raise in a future version. Use obj.ffill() or obj.bfill() instead.\n",
            "  df[column] = df.groupby(location_column)[column].apply(lambda group: group.fillna(method='ffill')).reset_index(level=0, drop=True)\n",
            "<ipython-input-59-106cdba5c3f1>:4: FutureWarning: Series.fillna with 'method' is deprecated and will raise in a future version. Use obj.ffill() or obj.bfill() instead.\n",
            "  df[column] = df.groupby(location_column)[column].apply(lambda group: group.fillna(method='ffill')).reset_index(level=0, drop=True)\n",
            "<ipython-input-59-106cdba5c3f1>:4: FutureWarning: Series.fillna with 'method' is deprecated and will raise in a future version. Use obj.ffill() or obj.bfill() instead.\n",
            "  df[column] = df.groupby(location_column)[column].apply(lambda group: group.fillna(method='ffill')).reset_index(level=0, drop=True)\n",
            "<ipython-input-59-106cdba5c3f1>:4: FutureWarning: Series.fillna with 'method' is deprecated and will raise in a future version. Use obj.ffill() or obj.bfill() instead.\n",
            "  df[column] = df.groupby(location_column)[column].apply(lambda group: group.fillna(method='ffill')).reset_index(level=0, drop=True)\n",
            "<ipython-input-59-106cdba5c3f1>:4: FutureWarning: Downcasting object dtype arrays on .fillna, .ffill, .bfill is deprecated and will change in a future version. Call result.infer_objects(copy=False) instead. To opt-in to the future behavior, set `pd.set_option('future.no_silent_downcasting', True)`\n",
            "  df[column] = df.groupby(location_column)[column].apply(lambda group: group.fillna(method='ffill')).reset_index(level=0, drop=True)\n",
            "<ipython-input-59-106cdba5c3f1>:4: FutureWarning: Series.fillna with 'method' is deprecated and will raise in a future version. Use obj.ffill() or obj.bfill() instead.\n",
            "  df[column] = df.groupby(location_column)[column].apply(lambda group: group.fillna(method='ffill')).reset_index(level=0, drop=True)\n",
            "<ipython-input-59-106cdba5c3f1>:4: FutureWarning: Series.fillna with 'method' is deprecated and will raise in a future version. Use obj.ffill() or obj.bfill() instead.\n",
            "  df[column] = df.groupby(location_column)[column].apply(lambda group: group.fillna(method='ffill')).reset_index(level=0, drop=True)\n",
            "<ipython-input-59-106cdba5c3f1>:4: FutureWarning: Series.fillna with 'method' is deprecated and will raise in a future version. Use obj.ffill() or obj.bfill() instead.\n",
            "  df[column] = df.groupby(location_column)[column].apply(lambda group: group.fillna(method='ffill')).reset_index(level=0, drop=True)\n",
            "<ipython-input-59-106cdba5c3f1>:4: FutureWarning: Series.fillna with 'method' is deprecated and will raise in a future version. Use obj.ffill() or obj.bfill() instead.\n",
            "  df[column] = df.groupby(location_column)[column].apply(lambda group: group.fillna(method='ffill')).reset_index(level=0, drop=True)\n",
            "<ipython-input-59-106cdba5c3f1>:4: FutureWarning: Series.fillna with 'method' is deprecated and will raise in a future version. Use obj.ffill() or obj.bfill() instead.\n",
            "  df[column] = df.groupby(location_column)[column].apply(lambda group: group.fillna(method='ffill')).reset_index(level=0, drop=True)\n",
            "<ipython-input-59-106cdba5c3f1>:4: FutureWarning: Series.fillna with 'method' is deprecated and will raise in a future version. Use obj.ffill() or obj.bfill() instead.\n",
            "  df[column] = df.groupby(location_column)[column].apply(lambda group: group.fillna(method='ffill')).reset_index(level=0, drop=True)\n",
            "<ipython-input-59-106cdba5c3f1>:4: FutureWarning: Series.fillna with 'method' is deprecated and will raise in a future version. Use obj.ffill() or obj.bfill() instead.\n",
            "  df[column] = df.groupby(location_column)[column].apply(lambda group: group.fillna(method='ffill')).reset_index(level=0, drop=True)\n",
            "<ipython-input-59-106cdba5c3f1>:4: FutureWarning: Series.fillna with 'method' is deprecated and will raise in a future version. Use obj.ffill() or obj.bfill() instead.\n",
            "  df[column] = df.groupby(location_column)[column].apply(lambda group: group.fillna(method='ffill')).reset_index(level=0, drop=True)\n",
            "<ipython-input-59-106cdba5c3f1>:4: FutureWarning: Series.fillna with 'method' is deprecated and will raise in a future version. Use obj.ffill() or obj.bfill() instead.\n",
            "  df[column] = df.groupby(location_column)[column].apply(lambda group: group.fillna(method='ffill')).reset_index(level=0, drop=True)\n",
            "<ipython-input-59-106cdba5c3f1>:4: FutureWarning: Series.fillna with 'method' is deprecated and will raise in a future version. Use obj.ffill() or obj.bfill() instead.\n",
            "  df[column] = df.groupby(location_column)[column].apply(lambda group: group.fillna(method='ffill')).reset_index(level=0, drop=True)\n",
            "<ipython-input-59-106cdba5c3f1>:4: FutureWarning: Series.fillna with 'method' is deprecated and will raise in a future version. Use obj.ffill() or obj.bfill() instead.\n",
            "  df[column] = df.groupby(location_column)[column].apply(lambda group: group.fillna(method='ffill')).reset_index(level=0, drop=True)\n",
            "<ipython-input-59-106cdba5c3f1>:4: FutureWarning: Series.fillna with 'method' is deprecated and will raise in a future version. Use obj.ffill() or obj.bfill() instead.\n",
            "  df[column] = df.groupby(location_column)[column].apply(lambda group: group.fillna(method='ffill')).reset_index(level=0, drop=True)\n",
            "<ipython-input-59-106cdba5c3f1>:4: FutureWarning: Series.fillna with 'method' is deprecated and will raise in a future version. Use obj.ffill() or obj.bfill() instead.\n",
            "  df[column] = df.groupby(location_column)[column].apply(lambda group: group.fillna(method='ffill')).reset_index(level=0, drop=True)\n",
            "<ipython-input-59-106cdba5c3f1>:4: FutureWarning: Series.fillna with 'method' is deprecated and will raise in a future version. Use obj.ffill() or obj.bfill() instead.\n",
            "  df[column] = df.groupby(location_column)[column].apply(lambda group: group.fillna(method='ffill')).reset_index(level=0, drop=True)\n",
            "<ipython-input-59-106cdba5c3f1>:4: FutureWarning: Series.fillna with 'method' is deprecated and will raise in a future version. Use obj.ffill() or obj.bfill() instead.\n",
            "  df[column] = df.groupby(location_column)[column].apply(lambda group: group.fillna(method='ffill')).reset_index(level=0, drop=True)\n",
            "<ipython-input-59-106cdba5c3f1>:4: FutureWarning: Series.fillna with 'method' is deprecated and will raise in a future version. Use obj.ffill() or obj.bfill() instead.\n",
            "  df[column] = df.groupby(location_column)[column].apply(lambda group: group.fillna(method='ffill')).reset_index(level=0, drop=True)\n"
          ]
        }
      ]
    },
    {
      "cell_type": "code",
      "source": [
        "def impute_missing_values_by_location_bfill(df, location_column):\n",
        "    for column in df.columns:\n",
        "        if column != location_column:\n",
        "            df[column] = df.groupby(location_column)[column].apply(lambda group: group.fillna(method='bfill')).reset_index(level=0, drop=True)\n",
        "impute_missing_values_by_location_bfill(df, \"Location\")"
      ],
      "metadata": {
        "colab": {
          "base_uri": "https://localhost:8080/"
        },
        "id": "lqVkCrdYVD0r",
        "outputId": "d6826bc4-b724-430d-a375-e4eeec053403"
      },
      "execution_count": null,
      "outputs": [
        {
          "output_type": "stream",
          "name": "stderr",
          "text": [
            "<ipython-input-60-cca29ffe92fe>:4: FutureWarning: Series.fillna with 'method' is deprecated and will raise in a future version. Use obj.ffill() or obj.bfill() instead.\n",
            "  df[column] = df.groupby(location_column)[column].apply(lambda group: group.fillna(method='bfill')).reset_index(level=0, drop=True)\n",
            "<ipython-input-60-cca29ffe92fe>:4: FutureWarning: Series.fillna with 'method' is deprecated and will raise in a future version. Use obj.ffill() or obj.bfill() instead.\n",
            "  df[column] = df.groupby(location_column)[column].apply(lambda group: group.fillna(method='bfill')).reset_index(level=0, drop=True)\n",
            "<ipython-input-60-cca29ffe92fe>:4: FutureWarning: Series.fillna with 'method' is deprecated and will raise in a future version. Use obj.ffill() or obj.bfill() instead.\n",
            "  df[column] = df.groupby(location_column)[column].apply(lambda group: group.fillna(method='bfill')).reset_index(level=0, drop=True)\n",
            "<ipython-input-60-cca29ffe92fe>:4: FutureWarning: Series.fillna with 'method' is deprecated and will raise in a future version. Use obj.ffill() or obj.bfill() instead.\n",
            "  df[column] = df.groupby(location_column)[column].apply(lambda group: group.fillna(method='bfill')).reset_index(level=0, drop=True)\n",
            "<ipython-input-60-cca29ffe92fe>:4: FutureWarning: Downcasting object dtype arrays on .fillna, .ffill, .bfill is deprecated and will change in a future version. Call result.infer_objects(copy=False) instead. To opt-in to the future behavior, set `pd.set_option('future.no_silent_downcasting', True)`\n",
            "  df[column] = df.groupby(location_column)[column].apply(lambda group: group.fillna(method='bfill')).reset_index(level=0, drop=True)\n",
            "<ipython-input-60-cca29ffe92fe>:4: FutureWarning: Series.fillna with 'method' is deprecated and will raise in a future version. Use obj.ffill() or obj.bfill() instead.\n",
            "  df[column] = df.groupby(location_column)[column].apply(lambda group: group.fillna(method='bfill')).reset_index(level=0, drop=True)\n",
            "<ipython-input-60-cca29ffe92fe>:4: FutureWarning: Series.fillna with 'method' is deprecated and will raise in a future version. Use obj.ffill() or obj.bfill() instead.\n",
            "  df[column] = df.groupby(location_column)[column].apply(lambda group: group.fillna(method='bfill')).reset_index(level=0, drop=True)\n",
            "<ipython-input-60-cca29ffe92fe>:4: FutureWarning: Series.fillna with 'method' is deprecated and will raise in a future version. Use obj.ffill() or obj.bfill() instead.\n",
            "  df[column] = df.groupby(location_column)[column].apply(lambda group: group.fillna(method='bfill')).reset_index(level=0, drop=True)\n",
            "<ipython-input-60-cca29ffe92fe>:4: FutureWarning: Series.fillna with 'method' is deprecated and will raise in a future version. Use obj.ffill() or obj.bfill() instead.\n",
            "  df[column] = df.groupby(location_column)[column].apply(lambda group: group.fillna(method='bfill')).reset_index(level=0, drop=True)\n",
            "<ipython-input-60-cca29ffe92fe>:4: FutureWarning: Series.fillna with 'method' is deprecated and will raise in a future version. Use obj.ffill() or obj.bfill() instead.\n",
            "  df[column] = df.groupby(location_column)[column].apply(lambda group: group.fillna(method='bfill')).reset_index(level=0, drop=True)\n",
            "<ipython-input-60-cca29ffe92fe>:4: FutureWarning: Series.fillna with 'method' is deprecated and will raise in a future version. Use obj.ffill() or obj.bfill() instead.\n",
            "  df[column] = df.groupby(location_column)[column].apply(lambda group: group.fillna(method='bfill')).reset_index(level=0, drop=True)\n",
            "<ipython-input-60-cca29ffe92fe>:4: FutureWarning: Series.fillna with 'method' is deprecated and will raise in a future version. Use obj.ffill() or obj.bfill() instead.\n",
            "  df[column] = df.groupby(location_column)[column].apply(lambda group: group.fillna(method='bfill')).reset_index(level=0, drop=True)\n",
            "<ipython-input-60-cca29ffe92fe>:4: FutureWarning: Series.fillna with 'method' is deprecated and will raise in a future version. Use obj.ffill() or obj.bfill() instead.\n",
            "  df[column] = df.groupby(location_column)[column].apply(lambda group: group.fillna(method='bfill')).reset_index(level=0, drop=True)\n",
            "<ipython-input-60-cca29ffe92fe>:4: FutureWarning: Series.fillna with 'method' is deprecated and will raise in a future version. Use obj.ffill() or obj.bfill() instead.\n",
            "  df[column] = df.groupby(location_column)[column].apply(lambda group: group.fillna(method='bfill')).reset_index(level=0, drop=True)\n",
            "<ipython-input-60-cca29ffe92fe>:4: FutureWarning: Series.fillna with 'method' is deprecated and will raise in a future version. Use obj.ffill() or obj.bfill() instead.\n",
            "  df[column] = df.groupby(location_column)[column].apply(lambda group: group.fillna(method='bfill')).reset_index(level=0, drop=True)\n",
            "<ipython-input-60-cca29ffe92fe>:4: FutureWarning: Series.fillna with 'method' is deprecated and will raise in a future version. Use obj.ffill() or obj.bfill() instead.\n",
            "  df[column] = df.groupby(location_column)[column].apply(lambda group: group.fillna(method='bfill')).reset_index(level=0, drop=True)\n",
            "<ipython-input-60-cca29ffe92fe>:4: FutureWarning: Series.fillna with 'method' is deprecated and will raise in a future version. Use obj.ffill() or obj.bfill() instead.\n",
            "  df[column] = df.groupby(location_column)[column].apply(lambda group: group.fillna(method='bfill')).reset_index(level=0, drop=True)\n",
            "<ipython-input-60-cca29ffe92fe>:4: FutureWarning: Series.fillna with 'method' is deprecated and will raise in a future version. Use obj.ffill() or obj.bfill() instead.\n",
            "  df[column] = df.groupby(location_column)[column].apply(lambda group: group.fillna(method='bfill')).reset_index(level=0, drop=True)\n",
            "<ipython-input-60-cca29ffe92fe>:4: FutureWarning: Series.fillna with 'method' is deprecated and will raise in a future version. Use obj.ffill() or obj.bfill() instead.\n",
            "  df[column] = df.groupby(location_column)[column].apply(lambda group: group.fillna(method='bfill')).reset_index(level=0, drop=True)\n",
            "<ipython-input-60-cca29ffe92fe>:4: FutureWarning: Series.fillna with 'method' is deprecated and will raise in a future version. Use obj.ffill() or obj.bfill() instead.\n",
            "  df[column] = df.groupby(location_column)[column].apply(lambda group: group.fillna(method='bfill')).reset_index(level=0, drop=True)\n",
            "<ipython-input-60-cca29ffe92fe>:4: FutureWarning: Series.fillna with 'method' is deprecated and will raise in a future version. Use obj.ffill() or obj.bfill() instead.\n",
            "  df[column] = df.groupby(location_column)[column].apply(lambda group: group.fillna(method='bfill')).reset_index(level=0, drop=True)\n"
          ]
        }
      ]
    },
    {
      "cell_type": "code",
      "source": [
        "def fill_missing_values_median_mode(df):\n",
        "    for column in df.columns:\n",
        "        if df[column].dtype == 'float64':\n",
        "            df[column].fillna(df[column].median(), inplace=True)\n",
        "        elif df[column].dtype == 'object':\n",
        "            df[column].fillna(df[column].mode()[0], inplace=True)\n",
        "fill_missing_values_median_mode(df)"
      ],
      "metadata": {
        "colab": {
          "base_uri": "https://localhost:8080/"
        },
        "id": "ois12nXdVW-i",
        "outputId": "7f1f00e5-8e13-45a3-8d45-8c35f36b0add"
      },
      "execution_count": null,
      "outputs": [
        {
          "output_type": "stream",
          "name": "stderr",
          "text": [
            "<ipython-input-61-16e7c2d63936>:6: FutureWarning: A value is trying to be set on a copy of a DataFrame or Series through chained assignment using an inplace method.\n",
            "The behavior will change in pandas 3.0. This inplace method will never work because the intermediate object on which we are setting values always behaves as a copy.\n",
            "\n",
            "For example, when doing 'df[col].method(value, inplace=True)', try using 'df.method({col: value}, inplace=True)' or df[col] = df[col].method(value) instead, to perform the operation inplace on the original object.\n",
            "\n",
            "\n",
            "  df[column].fillna(df[column].mode()[0], inplace=True)\n",
            "<ipython-input-61-16e7c2d63936>:4: FutureWarning: A value is trying to be set on a copy of a DataFrame or Series through chained assignment using an inplace method.\n",
            "The behavior will change in pandas 3.0. This inplace method will never work because the intermediate object on which we are setting values always behaves as a copy.\n",
            "\n",
            "For example, when doing 'df[col].method(value, inplace=True)', try using 'df.method({col: value}, inplace=True)' or df[col] = df[col].method(value) instead, to perform the operation inplace on the original object.\n",
            "\n",
            "\n",
            "  df[column].fillna(df[column].median(), inplace=True)\n"
          ]
        }
      ]
    },
    {
      "cell_type": "markdown",
      "source": [
        "**Encoding**  \n",
        "Categorical features (\"Location\", \"WindGustDir\", \"WindDir9am\", \"WindDir3pm\") will be dropped as they are not very correlated with target (was discovered in EDA previous time) and also they conatin a lot of different values , that after one hot enconding would result in expanding feature space of dataset to a very large dimension.\n",
        "\n",
        "Features RainToday and RainTomorrow will be encoded with rule: \"Yes\"-> 1 , \"No\" -> 0, as these features are basically binary."
      ],
      "metadata": {
        "id": "KH4lbCTeWzRd"
      }
    },
    {
      "cell_type": "code",
      "source": [
        "categorical_features = [\"Location\", \"WindGustDir\", \"WindDir9am\", \"WindDir3pm\"]\n",
        "df = df.drop(columns=categorical_features)\n",
        "\n",
        "df['RainToday'] = df['RainToday'].map({'Yes': 1, 'No': 0})\n",
        "df['RainTomorrow'] = df['RainTomorrow'].map({'Yes': 1, 'No': 0})"
      ],
      "metadata": {
        "id": "K8c1oyvdWcXC"
      },
      "execution_count": null,
      "outputs": []
    },
    {
      "cell_type": "markdown",
      "source": [
        "As we have seen in EDA there is a relationship betweeen month of the year and amount of rainfalls. So it is better to use this information in models. Month feature will be transformed by applying sin and cos functions. Two new features will be added to daatset after this. Features Year, Day, will no be used in modeling(will be deleted right before modeling). As they do not contain relevant useful information helpful for modeling target feature."
      ],
      "metadata": {
        "id": "WMdZh92UW_V0"
      }
    },
    {
      "cell_type": "code",
      "source": [
        "df['Month_sin'] = np.sin(2 * np.pi * df['Month'] / 12)\n",
        "df['Month_cos'] = np.cos(2 * np.pi * df['Month'] / 12)\n",
        "df.head()"
      ],
      "metadata": {
        "colab": {
          "base_uri": "https://localhost:8080/",
          "height": 206
        },
        "id": "uFv26LnlXAMd",
        "outputId": "1e28b916-dc0f-4d30-ed9a-bcf2f252c6fb"
      },
      "execution_count": null,
      "outputs": [
        {
          "output_type": "execute_result",
          "data": {
            "text/plain": [
              "       MinTemp  MaxTemp  Rainfall  WindGustSpeed  WindSpeed9am  WindSpeed3pm  \\\n",
              "45587      8.0     24.3       0.0           30.0           6.0          20.0   \n",
              "45588     14.0     26.9       3.6           39.0           4.0          17.0   \n",
              "45589     13.7     23.4       3.6           85.0           6.0           6.0   \n",
              "45590     13.3     15.5      39.8           54.0          30.0          24.0   \n",
              "45591      7.6     16.1       2.8           50.0          20.0          28.0   \n",
              "\n",
              "       Humidity9am  Humidity3pm  Pressure9am  Pressure3pm  Temp9am  Temp3pm  \\\n",
              "45587         68.0         29.0       1019.7       1015.0     14.4     23.6   \n",
              "45588         80.0         36.0       1012.4       1008.4     17.5     25.7   \n",
              "45589         82.0         69.0       1009.5       1007.2     15.4     20.2   \n",
              "45590         62.0         56.0       1005.5       1007.0     13.5     14.1   \n",
              "45591         68.0         49.0       1018.3       1018.5     11.1     15.4   \n",
              "\n",
              "       RainToday  RainTomorrow  Year  Month  Day  Month_sin  Month_cos  \n",
              "45587          0             1  2007     11    1       -0.5   0.866025  \n",
              "45588          1             1  2007     11    2       -0.5   0.866025  \n",
              "45589          1             1  2007     11    3       -0.5   0.866025  \n",
              "45590          1             1  2007     11    4       -0.5   0.866025  \n",
              "45591          1             0  2007     11    5       -0.5   0.866025  "
            ],
            "text/html": [
              "\n",
              "  <div id=\"df-d304e0ff-b98a-4220-8397-9d0d8a6260bd\" class=\"colab-df-container\">\n",
              "    <div>\n",
              "<style scoped>\n",
              "    .dataframe tbody tr th:only-of-type {\n",
              "        vertical-align: middle;\n",
              "    }\n",
              "\n",
              "    .dataframe tbody tr th {\n",
              "        vertical-align: top;\n",
              "    }\n",
              "\n",
              "    .dataframe thead th {\n",
              "        text-align: right;\n",
              "    }\n",
              "</style>\n",
              "<table border=\"1\" class=\"dataframe\">\n",
              "  <thead>\n",
              "    <tr style=\"text-align: right;\">\n",
              "      <th></th>\n",
              "      <th>MinTemp</th>\n",
              "      <th>MaxTemp</th>\n",
              "      <th>Rainfall</th>\n",
              "      <th>WindGustSpeed</th>\n",
              "      <th>WindSpeed9am</th>\n",
              "      <th>WindSpeed3pm</th>\n",
              "      <th>Humidity9am</th>\n",
              "      <th>Humidity3pm</th>\n",
              "      <th>Pressure9am</th>\n",
              "      <th>Pressure3pm</th>\n",
              "      <th>Temp9am</th>\n",
              "      <th>Temp3pm</th>\n",
              "      <th>RainToday</th>\n",
              "      <th>RainTomorrow</th>\n",
              "      <th>Year</th>\n",
              "      <th>Month</th>\n",
              "      <th>Day</th>\n",
              "      <th>Month_sin</th>\n",
              "      <th>Month_cos</th>\n",
              "    </tr>\n",
              "  </thead>\n",
              "  <tbody>\n",
              "    <tr>\n",
              "      <th>45587</th>\n",
              "      <td>8.0</td>\n",
              "      <td>24.3</td>\n",
              "      <td>0.0</td>\n",
              "      <td>30.0</td>\n",
              "      <td>6.0</td>\n",
              "      <td>20.0</td>\n",
              "      <td>68.0</td>\n",
              "      <td>29.0</td>\n",
              "      <td>1019.7</td>\n",
              "      <td>1015.0</td>\n",
              "      <td>14.4</td>\n",
              "      <td>23.6</td>\n",
              "      <td>0</td>\n",
              "      <td>1</td>\n",
              "      <td>2007</td>\n",
              "      <td>11</td>\n",
              "      <td>1</td>\n",
              "      <td>-0.5</td>\n",
              "      <td>0.866025</td>\n",
              "    </tr>\n",
              "    <tr>\n",
              "      <th>45588</th>\n",
              "      <td>14.0</td>\n",
              "      <td>26.9</td>\n",
              "      <td>3.6</td>\n",
              "      <td>39.0</td>\n",
              "      <td>4.0</td>\n",
              "      <td>17.0</td>\n",
              "      <td>80.0</td>\n",
              "      <td>36.0</td>\n",
              "      <td>1012.4</td>\n",
              "      <td>1008.4</td>\n",
              "      <td>17.5</td>\n",
              "      <td>25.7</td>\n",
              "      <td>1</td>\n",
              "      <td>1</td>\n",
              "      <td>2007</td>\n",
              "      <td>11</td>\n",
              "      <td>2</td>\n",
              "      <td>-0.5</td>\n",
              "      <td>0.866025</td>\n",
              "    </tr>\n",
              "    <tr>\n",
              "      <th>45589</th>\n",
              "      <td>13.7</td>\n",
              "      <td>23.4</td>\n",
              "      <td>3.6</td>\n",
              "      <td>85.0</td>\n",
              "      <td>6.0</td>\n",
              "      <td>6.0</td>\n",
              "      <td>82.0</td>\n",
              "      <td>69.0</td>\n",
              "      <td>1009.5</td>\n",
              "      <td>1007.2</td>\n",
              "      <td>15.4</td>\n",
              "      <td>20.2</td>\n",
              "      <td>1</td>\n",
              "      <td>1</td>\n",
              "      <td>2007</td>\n",
              "      <td>11</td>\n",
              "      <td>3</td>\n",
              "      <td>-0.5</td>\n",
              "      <td>0.866025</td>\n",
              "    </tr>\n",
              "    <tr>\n",
              "      <th>45590</th>\n",
              "      <td>13.3</td>\n",
              "      <td>15.5</td>\n",
              "      <td>39.8</td>\n",
              "      <td>54.0</td>\n",
              "      <td>30.0</td>\n",
              "      <td>24.0</td>\n",
              "      <td>62.0</td>\n",
              "      <td>56.0</td>\n",
              "      <td>1005.5</td>\n",
              "      <td>1007.0</td>\n",
              "      <td>13.5</td>\n",
              "      <td>14.1</td>\n",
              "      <td>1</td>\n",
              "      <td>1</td>\n",
              "      <td>2007</td>\n",
              "      <td>11</td>\n",
              "      <td>4</td>\n",
              "      <td>-0.5</td>\n",
              "      <td>0.866025</td>\n",
              "    </tr>\n",
              "    <tr>\n",
              "      <th>45591</th>\n",
              "      <td>7.6</td>\n",
              "      <td>16.1</td>\n",
              "      <td>2.8</td>\n",
              "      <td>50.0</td>\n",
              "      <td>20.0</td>\n",
              "      <td>28.0</td>\n",
              "      <td>68.0</td>\n",
              "      <td>49.0</td>\n",
              "      <td>1018.3</td>\n",
              "      <td>1018.5</td>\n",
              "      <td>11.1</td>\n",
              "      <td>15.4</td>\n",
              "      <td>1</td>\n",
              "      <td>0</td>\n",
              "      <td>2007</td>\n",
              "      <td>11</td>\n",
              "      <td>5</td>\n",
              "      <td>-0.5</td>\n",
              "      <td>0.866025</td>\n",
              "    </tr>\n",
              "  </tbody>\n",
              "</table>\n",
              "</div>\n",
              "    <div class=\"colab-df-buttons\">\n",
              "\n",
              "  <div class=\"colab-df-container\">\n",
              "    <button class=\"colab-df-convert\" onclick=\"convertToInteractive('df-d304e0ff-b98a-4220-8397-9d0d8a6260bd')\"\n",
              "            title=\"Convert this dataframe to an interactive table.\"\n",
              "            style=\"display:none;\">\n",
              "\n",
              "  <svg xmlns=\"http://www.w3.org/2000/svg\" height=\"24px\" viewBox=\"0 -960 960 960\">\n",
              "    <path d=\"M120-120v-720h720v720H120Zm60-500h600v-160H180v160Zm220 220h160v-160H400v160Zm0 220h160v-160H400v160ZM180-400h160v-160H180v160Zm440 0h160v-160H620v160ZM180-180h160v-160H180v160Zm440 0h160v-160H620v160Z\"/>\n",
              "  </svg>\n",
              "    </button>\n",
              "\n",
              "  <style>\n",
              "    .colab-df-container {\n",
              "      display:flex;\n",
              "      gap: 12px;\n",
              "    }\n",
              "\n",
              "    .colab-df-convert {\n",
              "      background-color: #E8F0FE;\n",
              "      border: none;\n",
              "      border-radius: 50%;\n",
              "      cursor: pointer;\n",
              "      display: none;\n",
              "      fill: #1967D2;\n",
              "      height: 32px;\n",
              "      padding: 0 0 0 0;\n",
              "      width: 32px;\n",
              "    }\n",
              "\n",
              "    .colab-df-convert:hover {\n",
              "      background-color: #E2EBFA;\n",
              "      box-shadow: 0px 1px 2px rgba(60, 64, 67, 0.3), 0px 1px 3px 1px rgba(60, 64, 67, 0.15);\n",
              "      fill: #174EA6;\n",
              "    }\n",
              "\n",
              "    .colab-df-buttons div {\n",
              "      margin-bottom: 4px;\n",
              "    }\n",
              "\n",
              "    [theme=dark] .colab-df-convert {\n",
              "      background-color: #3B4455;\n",
              "      fill: #D2E3FC;\n",
              "    }\n",
              "\n",
              "    [theme=dark] .colab-df-convert:hover {\n",
              "      background-color: #434B5C;\n",
              "      box-shadow: 0px 1px 3px 1px rgba(0, 0, 0, 0.15);\n",
              "      filter: drop-shadow(0px 1px 2px rgba(0, 0, 0, 0.3));\n",
              "      fill: #FFFFFF;\n",
              "    }\n",
              "  </style>\n",
              "\n",
              "    <script>\n",
              "      const buttonEl =\n",
              "        document.querySelector('#df-d304e0ff-b98a-4220-8397-9d0d8a6260bd button.colab-df-convert');\n",
              "      buttonEl.style.display =\n",
              "        google.colab.kernel.accessAllowed ? 'block' : 'none';\n",
              "\n",
              "      async function convertToInteractive(key) {\n",
              "        const element = document.querySelector('#df-d304e0ff-b98a-4220-8397-9d0d8a6260bd');\n",
              "        const dataTable =\n",
              "          await google.colab.kernel.invokeFunction('convertToInteractive',\n",
              "                                                    [key], {});\n",
              "        if (!dataTable) return;\n",
              "\n",
              "        const docLinkHtml = 'Like what you see? Visit the ' +\n",
              "          '<a target=\"_blank\" href=https://colab.research.google.com/notebooks/data_table.ipynb>data table notebook</a>'\n",
              "          + ' to learn more about interactive tables.';\n",
              "        element.innerHTML = '';\n",
              "        dataTable['output_type'] = 'display_data';\n",
              "        await google.colab.output.renderOutput(dataTable, element);\n",
              "        const docLink = document.createElement('div');\n",
              "        docLink.innerHTML = docLinkHtml;\n",
              "        element.appendChild(docLink);\n",
              "      }\n",
              "    </script>\n",
              "  </div>\n",
              "\n",
              "\n",
              "<div id=\"df-fe1a5ba6-4120-4bd8-95a2-8d7a94352505\">\n",
              "  <button class=\"colab-df-quickchart\" onclick=\"quickchart('df-fe1a5ba6-4120-4bd8-95a2-8d7a94352505')\"\n",
              "            title=\"Suggest charts\"\n",
              "            style=\"display:none;\">\n",
              "\n",
              "<svg xmlns=\"http://www.w3.org/2000/svg\" height=\"24px\"viewBox=\"0 0 24 24\"\n",
              "     width=\"24px\">\n",
              "    <g>\n",
              "        <path d=\"M19 3H5c-1.1 0-2 .9-2 2v14c0 1.1.9 2 2 2h14c1.1 0 2-.9 2-2V5c0-1.1-.9-2-2-2zM9 17H7v-7h2v7zm4 0h-2V7h2v10zm4 0h-2v-4h2v4z\"/>\n",
              "    </g>\n",
              "</svg>\n",
              "  </button>\n",
              "\n",
              "<style>\n",
              "  .colab-df-quickchart {\n",
              "      --bg-color: #E8F0FE;\n",
              "      --fill-color: #1967D2;\n",
              "      --hover-bg-color: #E2EBFA;\n",
              "      --hover-fill-color: #174EA6;\n",
              "      --disabled-fill-color: #AAA;\n",
              "      --disabled-bg-color: #DDD;\n",
              "  }\n",
              "\n",
              "  [theme=dark] .colab-df-quickchart {\n",
              "      --bg-color: #3B4455;\n",
              "      --fill-color: #D2E3FC;\n",
              "      --hover-bg-color: #434B5C;\n",
              "      --hover-fill-color: #FFFFFF;\n",
              "      --disabled-bg-color: #3B4455;\n",
              "      --disabled-fill-color: #666;\n",
              "  }\n",
              "\n",
              "  .colab-df-quickchart {\n",
              "    background-color: var(--bg-color);\n",
              "    border: none;\n",
              "    border-radius: 50%;\n",
              "    cursor: pointer;\n",
              "    display: none;\n",
              "    fill: var(--fill-color);\n",
              "    height: 32px;\n",
              "    padding: 0;\n",
              "    width: 32px;\n",
              "  }\n",
              "\n",
              "  .colab-df-quickchart:hover {\n",
              "    background-color: var(--hover-bg-color);\n",
              "    box-shadow: 0 1px 2px rgba(60, 64, 67, 0.3), 0 1px 3px 1px rgba(60, 64, 67, 0.15);\n",
              "    fill: var(--button-hover-fill-color);\n",
              "  }\n",
              "\n",
              "  .colab-df-quickchart-complete:disabled,\n",
              "  .colab-df-quickchart-complete:disabled:hover {\n",
              "    background-color: var(--disabled-bg-color);\n",
              "    fill: var(--disabled-fill-color);\n",
              "    box-shadow: none;\n",
              "  }\n",
              "\n",
              "  .colab-df-spinner {\n",
              "    border: 2px solid var(--fill-color);\n",
              "    border-color: transparent;\n",
              "    border-bottom-color: var(--fill-color);\n",
              "    animation:\n",
              "      spin 1s steps(1) infinite;\n",
              "  }\n",
              "\n",
              "  @keyframes spin {\n",
              "    0% {\n",
              "      border-color: transparent;\n",
              "      border-bottom-color: var(--fill-color);\n",
              "      border-left-color: var(--fill-color);\n",
              "    }\n",
              "    20% {\n",
              "      border-color: transparent;\n",
              "      border-left-color: var(--fill-color);\n",
              "      border-top-color: var(--fill-color);\n",
              "    }\n",
              "    30% {\n",
              "      border-color: transparent;\n",
              "      border-left-color: var(--fill-color);\n",
              "      border-top-color: var(--fill-color);\n",
              "      border-right-color: var(--fill-color);\n",
              "    }\n",
              "    40% {\n",
              "      border-color: transparent;\n",
              "      border-right-color: var(--fill-color);\n",
              "      border-top-color: var(--fill-color);\n",
              "    }\n",
              "    60% {\n",
              "      border-color: transparent;\n",
              "      border-right-color: var(--fill-color);\n",
              "    }\n",
              "    80% {\n",
              "      border-color: transparent;\n",
              "      border-right-color: var(--fill-color);\n",
              "      border-bottom-color: var(--fill-color);\n",
              "    }\n",
              "    90% {\n",
              "      border-color: transparent;\n",
              "      border-bottom-color: var(--fill-color);\n",
              "    }\n",
              "  }\n",
              "</style>\n",
              "\n",
              "  <script>\n",
              "    async function quickchart(key) {\n",
              "      const quickchartButtonEl =\n",
              "        document.querySelector('#' + key + ' button');\n",
              "      quickchartButtonEl.disabled = true;  // To prevent multiple clicks.\n",
              "      quickchartButtonEl.classList.add('colab-df-spinner');\n",
              "      try {\n",
              "        const charts = await google.colab.kernel.invokeFunction(\n",
              "            'suggestCharts', [key], {});\n",
              "      } catch (error) {\n",
              "        console.error('Error during call to suggestCharts:', error);\n",
              "      }\n",
              "      quickchartButtonEl.classList.remove('colab-df-spinner');\n",
              "      quickchartButtonEl.classList.add('colab-df-quickchart-complete');\n",
              "    }\n",
              "    (() => {\n",
              "      let quickchartButtonEl =\n",
              "        document.querySelector('#df-fe1a5ba6-4120-4bd8-95a2-8d7a94352505 button');\n",
              "      quickchartButtonEl.style.display =\n",
              "        google.colab.kernel.accessAllowed ? 'block' : 'none';\n",
              "    })();\n",
              "  </script>\n",
              "</div>\n",
              "\n",
              "    </div>\n",
              "  </div>\n"
            ],
            "application/vnd.google.colaboratory.intrinsic+json": {
              "type": "dataframe",
              "variable_name": "df"
            }
          },
          "metadata": {},
          "execution_count": 65
        }
      ]
    },
    {
      "cell_type": "markdown",
      "source": [
        "Normalization / standardization will not be applied in this notebook, as further models used are tree-based and tree based ensembles, which do not require standardized or normalized data as an input."
      ],
      "metadata": {
        "id": "nbPvFS0hXCXW"
      }
    },
    {
      "cell_type": "markdown",
      "source": [
        "**Data partitioning**  \n",
        "So to split dataset on training and testing sets was chosen this startegy: all instances recorded before 2016 go to train set, and all instances recorded after go to test set.\n",
        "As seen below this gives us around 80 percent of all instances in training set and around 20 percent of all instances in test set.\n",
        "Also the benefit of such strategy is that choronology of recorded instances will be intact.\n",
        "Also it can be seen that such split preserves proportion of instnces with different target feature values. So, with such a split no direct stratification technique should be used , as we see that proportion of target classes is the same in train and test sets comparing to proportion of target classes in initial dataframe."
      ],
      "metadata": {
        "id": "Yp8IEwEoXZ77"
      }
    },
    {
      "cell_type": "code",
      "source": [
        "train_data = df[df['Year'] < 2016]\n",
        "test_data = df[df['Year'] >= 2016]"
      ],
      "metadata": {
        "id": "hreyZy1sXpU8"
      },
      "execution_count": null,
      "outputs": []
    },
    {
      "cell_type": "code",
      "source": [
        "train_proportion = len(train_data) / len(df)\n",
        "test_proportion = len(test_data) / len(df)\n",
        "print(f\"Proportion of train set: {train_proportion:.2%}\")\n",
        "print(f\"Proportion of test set: {test_proportion:.2%}\")"
      ],
      "metadata": {
        "colab": {
          "base_uri": "https://localhost:8080/"
        },
        "id": "vAKHAXEcXrFr",
        "outputId": "82cb34f2-d6c3-4751-c21a-3e7da2fa8386"
      },
      "execution_count": null,
      "outputs": [
        {
          "output_type": "stream",
          "name": "stdout",
          "text": [
            "Proportion of train set: 81.74%\n",
            "Proportion of test set: 18.26%\n"
          ]
        }
      ]
    },
    {
      "cell_type": "code",
      "source": [
        "df_proportions = df['RainTomorrow'].value_counts(normalize=True)\n",
        "print(\"Df Set:\")\n",
        "print(f\"RainTomorrow == 1: {df_proportions.get(1, 0):.2%}\")\n",
        "print(f\"RainTomorrow == 0: {df_proportions.get(0, 0):.2%}\")\n",
        "\n",
        "train_proportions = train_data['RainTomorrow'].value_counts(normalize=True)\n",
        "majority_class = train_data[train_data['RainTomorrow'] == 0]\n",
        "minority_class = train_data[train_data['RainTomorrow'] == 1]\n",
        "print(len(majority_class))\n",
        "print(len(minority_class))\n",
        "print(\"\\nTrain Set:\")\n",
        "print(f\"RainTomorrow == 1: {train_proportions.get(1, 0):.2%}\")\n",
        "print(f\"RainTomorrow == 0: {train_proportions.get(0, 0):.2%}\")\n",
        "\n",
        "test_proportions = test_data['RainTomorrow'].value_counts(normalize=True)\n",
        "print(\"\\nTest Set:\")\n",
        "print(f\"RainTomorrow == 1: {test_proportions.get(1, 0):.2%}\")\n",
        "print(f\"RainTomorrow == 0: {test_proportions.get(0, 0):.2%}\")"
      ],
      "metadata": {
        "colab": {
          "base_uri": "https://localhost:8080/"
        },
        "id": "pIhVyNE5XtuA",
        "outputId": "3b2fde98-e6a3-4636-c7a7-849a07137366"
      },
      "execution_count": null,
      "outputs": [
        {
          "output_type": "stream",
          "name": "stdout",
          "text": [
            "Df Set:\n",
            "RainTomorrow == 1: 22.52%\n",
            "RainTomorrow == 0: 77.48%\n",
            "92208\n",
            "26695\n",
            "\n",
            "Train Set:\n",
            "RainTomorrow == 1: 22.45%\n",
            "RainTomorrow == 0: 77.55%\n",
            "\n",
            "Test Set:\n",
            "RainTomorrow == 1: 22.83%\n",
            "RainTomorrow == 0: 77.17%\n"
          ]
        }
      ]
    },
    {
      "cell_type": "markdown",
      "source": [
        "**Handling imbalanced data**  \n",
        "As we see there is clear imbalance of samples with different target values in train set.\n",
        "Will be performed combination of undersampling and oversampling to deal with this imbalance.\n",
        "Firtsly will be applied oversampling technique, to reproduce more instances from minor target class(RainTomorrow == 1). The technique chosen for oversampling is simple replicating of existing instances. Then will be applied undersampling of instances from major target class(RainTomorrow == 0)."
      ],
      "metadata": {
        "id": "j9IT2cPTX966"
      }
    },
    {
      "cell_type": "code",
      "source": [
        "majority_class = train_data[train_data['RainTomorrow'] == 0]\n",
        "minority_class = train_data[train_data['RainTomorrow'] == 1]\n",
        "\n",
        "minority_oversampled = resample(\n",
        "    minority_class,\n",
        "    replace=True,\n",
        "    n_samples=round(len(majority_class)/3),\n",
        "    random_state=42\n",
        ")\n",
        "\n",
        "train_oversampled = pd.concat([majority_class, minority_oversampled])\n",
        "train_oversampled = train_oversampled.sort_values(by=['Year', 'Month', 'Day']).reset_index(drop=True)\n",
        "\n",
        "train_proportions = train_oversampled['RainTomorrow'].value_counts(normalize=True)\n",
        "print(\"\\nTrain Set:\")\n",
        "print(f\"RainTomorrow == 1: {train_proportions.get(1, 0):.2%}\")\n",
        "print(f\"RainTomorrow == 0: {train_proportions.get(0, 0):.2%}\")\n",
        "train_oversampled.head()"
      ],
      "metadata": {
        "colab": {
          "base_uri": "https://localhost:8080/",
          "height": 276
        },
        "id": "_miIX0ubYDdh",
        "outputId": "3bcba4a4-6e68-47a7-d0c5-55eab58e6fb2"
      },
      "execution_count": null,
      "outputs": [
        {
          "output_type": "stream",
          "name": "stdout",
          "text": [
            "\n",
            "Train Set:\n",
            "RainTomorrow == 1: 25.00%\n",
            "RainTomorrow == 0: 75.00%\n"
          ]
        },
        {
          "output_type": "execute_result",
          "data": {
            "text/plain": [
              "   MinTemp  MaxTemp  Rainfall  WindGustSpeed  WindSpeed9am  WindSpeed3pm  \\\n",
              "0     14.0     26.9       3.6           39.0           4.0          17.0   \n",
              "1     13.7     23.4       3.6           85.0           6.0           6.0   \n",
              "2     13.3     15.5      39.8           54.0          30.0          24.0   \n",
              "3      7.6     16.1       2.8           50.0          20.0          28.0   \n",
              "4      6.2     16.9       0.0           44.0          20.0          24.0   \n",
              "\n",
              "   Humidity9am  Humidity3pm  Pressure9am  Pressure3pm  Temp9am  Temp3pm  \\\n",
              "0         80.0         36.0       1012.4       1008.4     17.5     25.7   \n",
              "1         82.0         69.0       1009.5       1007.2     15.4     20.2   \n",
              "2         62.0         56.0       1005.5       1007.0     13.5     14.1   \n",
              "3         68.0         49.0       1018.3       1018.5     11.1     15.4   \n",
              "4         70.0         57.0       1023.8       1021.7     10.9     14.8   \n",
              "\n",
              "   RainToday  RainTomorrow  Year  Month  Day  Month_sin  Month_cos  \n",
              "0          1             1  2007     11    2       -0.5   0.866025  \n",
              "1          1             1  2007     11    3       -0.5   0.866025  \n",
              "2          1             1  2007     11    4       -0.5   0.866025  \n",
              "3          1             0  2007     11    5       -0.5   0.866025  \n",
              "4          0             0  2007     11    6       -0.5   0.866025  "
            ],
            "text/html": [
              "\n",
              "  <div id=\"df-1ac819bb-8910-488e-8968-ba2523605dfd\" class=\"colab-df-container\">\n",
              "    <div>\n",
              "<style scoped>\n",
              "    .dataframe tbody tr th:only-of-type {\n",
              "        vertical-align: middle;\n",
              "    }\n",
              "\n",
              "    .dataframe tbody tr th {\n",
              "        vertical-align: top;\n",
              "    }\n",
              "\n",
              "    .dataframe thead th {\n",
              "        text-align: right;\n",
              "    }\n",
              "</style>\n",
              "<table border=\"1\" class=\"dataframe\">\n",
              "  <thead>\n",
              "    <tr style=\"text-align: right;\">\n",
              "      <th></th>\n",
              "      <th>MinTemp</th>\n",
              "      <th>MaxTemp</th>\n",
              "      <th>Rainfall</th>\n",
              "      <th>WindGustSpeed</th>\n",
              "      <th>WindSpeed9am</th>\n",
              "      <th>WindSpeed3pm</th>\n",
              "      <th>Humidity9am</th>\n",
              "      <th>Humidity3pm</th>\n",
              "      <th>Pressure9am</th>\n",
              "      <th>Pressure3pm</th>\n",
              "      <th>Temp9am</th>\n",
              "      <th>Temp3pm</th>\n",
              "      <th>RainToday</th>\n",
              "      <th>RainTomorrow</th>\n",
              "      <th>Year</th>\n",
              "      <th>Month</th>\n",
              "      <th>Day</th>\n",
              "      <th>Month_sin</th>\n",
              "      <th>Month_cos</th>\n",
              "    </tr>\n",
              "  </thead>\n",
              "  <tbody>\n",
              "    <tr>\n",
              "      <th>0</th>\n",
              "      <td>14.0</td>\n",
              "      <td>26.9</td>\n",
              "      <td>3.6</td>\n",
              "      <td>39.0</td>\n",
              "      <td>4.0</td>\n",
              "      <td>17.0</td>\n",
              "      <td>80.0</td>\n",
              "      <td>36.0</td>\n",
              "      <td>1012.4</td>\n",
              "      <td>1008.4</td>\n",
              "      <td>17.5</td>\n",
              "      <td>25.7</td>\n",
              "      <td>1</td>\n",
              "      <td>1</td>\n",
              "      <td>2007</td>\n",
              "      <td>11</td>\n",
              "      <td>2</td>\n",
              "      <td>-0.5</td>\n",
              "      <td>0.866025</td>\n",
              "    </tr>\n",
              "    <tr>\n",
              "      <th>1</th>\n",
              "      <td>13.7</td>\n",
              "      <td>23.4</td>\n",
              "      <td>3.6</td>\n",
              "      <td>85.0</td>\n",
              "      <td>6.0</td>\n",
              "      <td>6.0</td>\n",
              "      <td>82.0</td>\n",
              "      <td>69.0</td>\n",
              "      <td>1009.5</td>\n",
              "      <td>1007.2</td>\n",
              "      <td>15.4</td>\n",
              "      <td>20.2</td>\n",
              "      <td>1</td>\n",
              "      <td>1</td>\n",
              "      <td>2007</td>\n",
              "      <td>11</td>\n",
              "      <td>3</td>\n",
              "      <td>-0.5</td>\n",
              "      <td>0.866025</td>\n",
              "    </tr>\n",
              "    <tr>\n",
              "      <th>2</th>\n",
              "      <td>13.3</td>\n",
              "      <td>15.5</td>\n",
              "      <td>39.8</td>\n",
              "      <td>54.0</td>\n",
              "      <td>30.0</td>\n",
              "      <td>24.0</td>\n",
              "      <td>62.0</td>\n",
              "      <td>56.0</td>\n",
              "      <td>1005.5</td>\n",
              "      <td>1007.0</td>\n",
              "      <td>13.5</td>\n",
              "      <td>14.1</td>\n",
              "      <td>1</td>\n",
              "      <td>1</td>\n",
              "      <td>2007</td>\n",
              "      <td>11</td>\n",
              "      <td>4</td>\n",
              "      <td>-0.5</td>\n",
              "      <td>0.866025</td>\n",
              "    </tr>\n",
              "    <tr>\n",
              "      <th>3</th>\n",
              "      <td>7.6</td>\n",
              "      <td>16.1</td>\n",
              "      <td>2.8</td>\n",
              "      <td>50.0</td>\n",
              "      <td>20.0</td>\n",
              "      <td>28.0</td>\n",
              "      <td>68.0</td>\n",
              "      <td>49.0</td>\n",
              "      <td>1018.3</td>\n",
              "      <td>1018.5</td>\n",
              "      <td>11.1</td>\n",
              "      <td>15.4</td>\n",
              "      <td>1</td>\n",
              "      <td>0</td>\n",
              "      <td>2007</td>\n",
              "      <td>11</td>\n",
              "      <td>5</td>\n",
              "      <td>-0.5</td>\n",
              "      <td>0.866025</td>\n",
              "    </tr>\n",
              "    <tr>\n",
              "      <th>4</th>\n",
              "      <td>6.2</td>\n",
              "      <td>16.9</td>\n",
              "      <td>0.0</td>\n",
              "      <td>44.0</td>\n",
              "      <td>20.0</td>\n",
              "      <td>24.0</td>\n",
              "      <td>70.0</td>\n",
              "      <td>57.0</td>\n",
              "      <td>1023.8</td>\n",
              "      <td>1021.7</td>\n",
              "      <td>10.9</td>\n",
              "      <td>14.8</td>\n",
              "      <td>0</td>\n",
              "      <td>0</td>\n",
              "      <td>2007</td>\n",
              "      <td>11</td>\n",
              "      <td>6</td>\n",
              "      <td>-0.5</td>\n",
              "      <td>0.866025</td>\n",
              "    </tr>\n",
              "  </tbody>\n",
              "</table>\n",
              "</div>\n",
              "    <div class=\"colab-df-buttons\">\n",
              "\n",
              "  <div class=\"colab-df-container\">\n",
              "    <button class=\"colab-df-convert\" onclick=\"convertToInteractive('df-1ac819bb-8910-488e-8968-ba2523605dfd')\"\n",
              "            title=\"Convert this dataframe to an interactive table.\"\n",
              "            style=\"display:none;\">\n",
              "\n",
              "  <svg xmlns=\"http://www.w3.org/2000/svg\" height=\"24px\" viewBox=\"0 -960 960 960\">\n",
              "    <path d=\"M120-120v-720h720v720H120Zm60-500h600v-160H180v160Zm220 220h160v-160H400v160Zm0 220h160v-160H400v160ZM180-400h160v-160H180v160Zm440 0h160v-160H620v160ZM180-180h160v-160H180v160Zm440 0h160v-160H620v160Z\"/>\n",
              "  </svg>\n",
              "    </button>\n",
              "\n",
              "  <style>\n",
              "    .colab-df-container {\n",
              "      display:flex;\n",
              "      gap: 12px;\n",
              "    }\n",
              "\n",
              "    .colab-df-convert {\n",
              "      background-color: #E8F0FE;\n",
              "      border: none;\n",
              "      border-radius: 50%;\n",
              "      cursor: pointer;\n",
              "      display: none;\n",
              "      fill: #1967D2;\n",
              "      height: 32px;\n",
              "      padding: 0 0 0 0;\n",
              "      width: 32px;\n",
              "    }\n",
              "\n",
              "    .colab-df-convert:hover {\n",
              "      background-color: #E2EBFA;\n",
              "      box-shadow: 0px 1px 2px rgba(60, 64, 67, 0.3), 0px 1px 3px 1px rgba(60, 64, 67, 0.15);\n",
              "      fill: #174EA6;\n",
              "    }\n",
              "\n",
              "    .colab-df-buttons div {\n",
              "      margin-bottom: 4px;\n",
              "    }\n",
              "\n",
              "    [theme=dark] .colab-df-convert {\n",
              "      background-color: #3B4455;\n",
              "      fill: #D2E3FC;\n",
              "    }\n",
              "\n",
              "    [theme=dark] .colab-df-convert:hover {\n",
              "      background-color: #434B5C;\n",
              "      box-shadow: 0px 1px 3px 1px rgba(0, 0, 0, 0.15);\n",
              "      filter: drop-shadow(0px 1px 2px rgba(0, 0, 0, 0.3));\n",
              "      fill: #FFFFFF;\n",
              "    }\n",
              "  </style>\n",
              "\n",
              "    <script>\n",
              "      const buttonEl =\n",
              "        document.querySelector('#df-1ac819bb-8910-488e-8968-ba2523605dfd button.colab-df-convert');\n",
              "      buttonEl.style.display =\n",
              "        google.colab.kernel.accessAllowed ? 'block' : 'none';\n",
              "\n",
              "      async function convertToInteractive(key) {\n",
              "        const element = document.querySelector('#df-1ac819bb-8910-488e-8968-ba2523605dfd');\n",
              "        const dataTable =\n",
              "          await google.colab.kernel.invokeFunction('convertToInteractive',\n",
              "                                                    [key], {});\n",
              "        if (!dataTable) return;\n",
              "\n",
              "        const docLinkHtml = 'Like what you see? Visit the ' +\n",
              "          '<a target=\"_blank\" href=https://colab.research.google.com/notebooks/data_table.ipynb>data table notebook</a>'\n",
              "          + ' to learn more about interactive tables.';\n",
              "        element.innerHTML = '';\n",
              "        dataTable['output_type'] = 'display_data';\n",
              "        await google.colab.output.renderOutput(dataTable, element);\n",
              "        const docLink = document.createElement('div');\n",
              "        docLink.innerHTML = docLinkHtml;\n",
              "        element.appendChild(docLink);\n",
              "      }\n",
              "    </script>\n",
              "  </div>\n",
              "\n",
              "\n",
              "<div id=\"df-87fc22c5-6edc-49f9-975f-6d41d5a31259\">\n",
              "  <button class=\"colab-df-quickchart\" onclick=\"quickchart('df-87fc22c5-6edc-49f9-975f-6d41d5a31259')\"\n",
              "            title=\"Suggest charts\"\n",
              "            style=\"display:none;\">\n",
              "\n",
              "<svg xmlns=\"http://www.w3.org/2000/svg\" height=\"24px\"viewBox=\"0 0 24 24\"\n",
              "     width=\"24px\">\n",
              "    <g>\n",
              "        <path d=\"M19 3H5c-1.1 0-2 .9-2 2v14c0 1.1.9 2 2 2h14c1.1 0 2-.9 2-2V5c0-1.1-.9-2-2-2zM9 17H7v-7h2v7zm4 0h-2V7h2v10zm4 0h-2v-4h2v4z\"/>\n",
              "    </g>\n",
              "</svg>\n",
              "  </button>\n",
              "\n",
              "<style>\n",
              "  .colab-df-quickchart {\n",
              "      --bg-color: #E8F0FE;\n",
              "      --fill-color: #1967D2;\n",
              "      --hover-bg-color: #E2EBFA;\n",
              "      --hover-fill-color: #174EA6;\n",
              "      --disabled-fill-color: #AAA;\n",
              "      --disabled-bg-color: #DDD;\n",
              "  }\n",
              "\n",
              "  [theme=dark] .colab-df-quickchart {\n",
              "      --bg-color: #3B4455;\n",
              "      --fill-color: #D2E3FC;\n",
              "      --hover-bg-color: #434B5C;\n",
              "      --hover-fill-color: #FFFFFF;\n",
              "      --disabled-bg-color: #3B4455;\n",
              "      --disabled-fill-color: #666;\n",
              "  }\n",
              "\n",
              "  .colab-df-quickchart {\n",
              "    background-color: var(--bg-color);\n",
              "    border: none;\n",
              "    border-radius: 50%;\n",
              "    cursor: pointer;\n",
              "    display: none;\n",
              "    fill: var(--fill-color);\n",
              "    height: 32px;\n",
              "    padding: 0;\n",
              "    width: 32px;\n",
              "  }\n",
              "\n",
              "  .colab-df-quickchart:hover {\n",
              "    background-color: var(--hover-bg-color);\n",
              "    box-shadow: 0 1px 2px rgba(60, 64, 67, 0.3), 0 1px 3px 1px rgba(60, 64, 67, 0.15);\n",
              "    fill: var(--button-hover-fill-color);\n",
              "  }\n",
              "\n",
              "  .colab-df-quickchart-complete:disabled,\n",
              "  .colab-df-quickchart-complete:disabled:hover {\n",
              "    background-color: var(--disabled-bg-color);\n",
              "    fill: var(--disabled-fill-color);\n",
              "    box-shadow: none;\n",
              "  }\n",
              "\n",
              "  .colab-df-spinner {\n",
              "    border: 2px solid var(--fill-color);\n",
              "    border-color: transparent;\n",
              "    border-bottom-color: var(--fill-color);\n",
              "    animation:\n",
              "      spin 1s steps(1) infinite;\n",
              "  }\n",
              "\n",
              "  @keyframes spin {\n",
              "    0% {\n",
              "      border-color: transparent;\n",
              "      border-bottom-color: var(--fill-color);\n",
              "      border-left-color: var(--fill-color);\n",
              "    }\n",
              "    20% {\n",
              "      border-color: transparent;\n",
              "      border-left-color: var(--fill-color);\n",
              "      border-top-color: var(--fill-color);\n",
              "    }\n",
              "    30% {\n",
              "      border-color: transparent;\n",
              "      border-left-color: var(--fill-color);\n",
              "      border-top-color: var(--fill-color);\n",
              "      border-right-color: var(--fill-color);\n",
              "    }\n",
              "    40% {\n",
              "      border-color: transparent;\n",
              "      border-right-color: var(--fill-color);\n",
              "      border-top-color: var(--fill-color);\n",
              "    }\n",
              "    60% {\n",
              "      border-color: transparent;\n",
              "      border-right-color: var(--fill-color);\n",
              "    }\n",
              "    80% {\n",
              "      border-color: transparent;\n",
              "      border-right-color: var(--fill-color);\n",
              "      border-bottom-color: var(--fill-color);\n",
              "    }\n",
              "    90% {\n",
              "      border-color: transparent;\n",
              "      border-bottom-color: var(--fill-color);\n",
              "    }\n",
              "  }\n",
              "</style>\n",
              "\n",
              "  <script>\n",
              "    async function quickchart(key) {\n",
              "      const quickchartButtonEl =\n",
              "        document.querySelector('#' + key + ' button');\n",
              "      quickchartButtonEl.disabled = true;  // To prevent multiple clicks.\n",
              "      quickchartButtonEl.classList.add('colab-df-spinner');\n",
              "      try {\n",
              "        const charts = await google.colab.kernel.invokeFunction(\n",
              "            'suggestCharts', [key], {});\n",
              "      } catch (error) {\n",
              "        console.error('Error during call to suggestCharts:', error);\n",
              "      }\n",
              "      quickchartButtonEl.classList.remove('colab-df-spinner');\n",
              "      quickchartButtonEl.classList.add('colab-df-quickchart-complete');\n",
              "    }\n",
              "    (() => {\n",
              "      let quickchartButtonEl =\n",
              "        document.querySelector('#df-87fc22c5-6edc-49f9-975f-6d41d5a31259 button');\n",
              "      quickchartButtonEl.style.display =\n",
              "        google.colab.kernel.accessAllowed ? 'block' : 'none';\n",
              "    })();\n",
              "  </script>\n",
              "</div>\n",
              "\n",
              "    </div>\n",
              "  </div>\n"
            ],
            "application/vnd.google.colaboratory.intrinsic+json": {
              "type": "dataframe",
              "variable_name": "train_oversampled"
            }
          },
          "metadata": {},
          "execution_count": 70
        }
      ]
    },
    {
      "cell_type": "markdown",
      "source": [
        "So, as can be seen the difference between number of instances from different target variable class were a little bit smoothened. It was have chosen to not use only oversampling to delete this difference but also undersampling, so not to introduce too much of the same instances in training set (to avoid overfitting of future models)."
      ],
      "metadata": {
        "id": "JDivUjR6YFwv"
      }
    },
    {
      "cell_type": "code",
      "source": [
        "majority_class = train_oversampled[train_oversampled['RainTomorrow'] == 0]\n",
        "minority_class = train_oversampled[train_oversampled['RainTomorrow'] == 1]\n",
        "\n",
        "majority_undersampled = resample(\n",
        "    majority_class,\n",
        "    replace=False,\n",
        "    n_samples=round(len(minority_class)*1.5),\n",
        "    random_state=42\n",
        ")\n",
        "train_balanced = pd.concat([majority_undersampled, minority_class])\n",
        "\n",
        "train_balanced = train_balanced.sort_values(by=['Year', 'Month', 'Day']).reset_index(drop=True)\n",
        "\n",
        "train_proportions = train_balanced['RainTomorrow'].value_counts(normalize=True)\n",
        "print(\"\\nTrain Set:\")\n",
        "print(f\"RainTomorrow == 1: {train_proportions.get(1, 0):.2%}\")\n",
        "print(f\"RainTomorrow == 0: {train_proportions.get(0, 0):.2%}\")"
      ],
      "metadata": {
        "colab": {
          "base_uri": "https://localhost:8080/"
        },
        "id": "guSqbDy8YGdk",
        "outputId": "83919bec-00be-4ac5-8c10-d14cc073e10a"
      },
      "execution_count": null,
      "outputs": [
        {
          "output_type": "stream",
          "name": "stdout",
          "text": [
            "\n",
            "Train Set:\n",
            "RainTomorrow == 1: 40.00%\n",
            "RainTomorrow == 0: 60.00%\n"
          ]
        }
      ]
    },
    {
      "cell_type": "markdown",
      "source": [
        "Now, as can be seen proportion of instances representing negative target class is almost the same as proportion of instances representing positive target class. I have done this so to further use weighting during model training (if there were no disbalance it would not make sense to use weighting) and also not to lose too much important infromation , while deleting instances of target class 0."
      ],
      "metadata": {
        "id": "nnUWfDfTYLPT"
      }
    },
    {
      "cell_type": "markdown",
      "source": [
        "**Metrics used to evaluate models**  \n",
        "To evaluate perfomance of models focus will be on precision, recall and f-1 score for positive target class(RainTomorrow == 1). That is due to the reason, that there is imbalance in test set (more instances with target feature equal to 0). Also it is due to that our primar goal is to predict as accurately rainy tomorrows, there is no privillage for one metric recall or precision, as in equal extent we do not want to see False Negatives and False Positives predictions. That is why we should try to maximize f-1 score, which is basically the harmonic mean of the precision and recall. An optimal tradeoff between precision and recall (positive target class) will be searched.\n",
        "\n",
        "Following that, while finding best hyperparametrs during tuning, metric used for comparison models with different configurations is f1-score(positive class)."
      ],
      "metadata": {
        "id": "6gy63HwYYNEV"
      }
    },
    {
      "cell_type": "markdown",
      "source": [
        "**Modeling**"
      ],
      "metadata": {
        "id": "0DIrq3pMYSSL"
      }
    },
    {
      "cell_type": "markdown",
      "source": [
        "*Defining X_train, X_test, y_train, y_test sets.*"
      ],
      "metadata": {
        "id": "9WQ-sdz9vEH_"
      }
    },
    {
      "cell_type": "code",
      "source": [
        "y_train = train_balanced['RainTomorrow']\n",
        "X_train = train_balanced.drop(columns=['RainTomorrow', 'Year', 'Day', 'Month'])\n",
        "\n",
        "y_test = test_data['RainTomorrow']\n",
        "X_test = test_data.drop(columns=['Year', \"Day\", 'Month', 'RainTomorrow'])"
      ],
      "metadata": {
        "id": "N0R9Abi4YRtk"
      },
      "execution_count": null,
      "outputs": []
    },
    {
      "cell_type": "markdown",
      "source": [
        "**Decision Tree Classifiers**"
      ],
      "metadata": {
        "id": "p7Uvr9VBYdos"
      }
    },
    {
      "cell_type": "code",
      "source": [
        "def train_decision_tree(X_train, y_train, X_test, y_test, max_depth=None):\n",
        "    model = DecisionTreeClassifier(max_depth=max_depth)\n",
        "    model.fit(X_train, y_train)\n",
        "    y_pred = model.predict(X_test)\n",
        "\n",
        "    print(classification_report(y_test, y_pred, digits=2))\n",
        "    accuracy = accuracy_score(y_test, y_pred)\n",
        "    print(f\"Accuracy: {accuracy:.2f}\")\n",
        "\n",
        "    return model"
      ],
      "metadata": {
        "id": "xKQGBOgYY50l"
      },
      "execution_count": null,
      "outputs": []
    },
    {
      "cell_type": "code",
      "source": [
        "dtc1 = train_decision_tree(X_train, y_train, X_test, y_test, 10)"
      ],
      "metadata": {
        "colab": {
          "base_uri": "https://localhost:8080/"
        },
        "id": "HGfb8elJjV_J",
        "outputId": "6af41150-a667-486a-d1b6-3f647f197662"
      },
      "execution_count": null,
      "outputs": [
        {
          "output_type": "stream",
          "name": "stdout",
          "text": [
            "              precision    recall  f1-score   support\n",
            "\n",
            "           0       0.89      0.85      0.87     20493\n",
            "           1       0.56      0.63      0.59      6064\n",
            "\n",
            "    accuracy                           0.80     26557\n",
            "   macro avg       0.72      0.74      0.73     26557\n",
            "weighted avg       0.81      0.80      0.81     26557\n",
            "\n",
            "Accuracy: 0.80\n"
          ]
        }
      ]
    },
    {
      "cell_type": "markdown",
      "source": [
        "Out of all classified \"Rainy Tomorrows\" only 56% are indeed \"Rainy Tomorrows\", out of all real \"Rainy Tomorrows\" only 63% are classsified as being \"Rainy Tomorrows\". F-1 score is equal to relatively moderate value. Such results are obtained with decision tree classifier of maximum depth equal to 10, which is not very large tree. Let's increase this hyperparameter and check whether perfomance can be improved.\n",
        "\n",
        "Overall, it could be said that for the simplest algorithm regarded in this notebook the perfomance result is pretty good.\n",
        "\n",
        "Let's increase hyperparameter max_depth (from 10 to 25) and check what changes. We are making model more complex with increasing this hyperparameter."
      ],
      "metadata": {
        "id": "MaNSwtBXwjyq"
      }
    },
    {
      "cell_type": "code",
      "source": [
        "dtc2 = train_decision_tree(X_train, y_train, X_test, y_test, 25)"
      ],
      "metadata": {
        "colab": {
          "base_uri": "https://localhost:8080/"
        },
        "id": "DFXuPiApjfKK",
        "outputId": "0e084470-1d6e-4ca4-a9ba-1b242f03328a"
      },
      "execution_count": null,
      "outputs": [
        {
          "output_type": "stream",
          "name": "stdout",
          "text": [
            "              precision    recall  f1-score   support\n",
            "\n",
            "           0       0.86      0.81      0.84     20493\n",
            "           1       0.47      0.56      0.51      6064\n",
            "\n",
            "    accuracy                           0.75     26557\n",
            "   macro avg       0.66      0.69      0.67     26557\n",
            "weighted avg       0.77      0.75      0.76     26557\n",
            "\n",
            "Accuracy: 0.75\n"
          ]
        }
      ]
    },
    {
      "cell_type": "markdown",
      "source": [
        "In this case out of all classified positively \"Rainy Tomorrows\" only 47% are correct, out of all real \"Rainy Tomorrows\" only 56% are classsified as being \"RainyTomorrows\". As seen, metrics decreased, F-1 score also decreased (for positive target class). The model became even worse at predicting positive class (RainTomorrow==1). Maybe model overfitted train set, after increasing hyperparametr max_depth to 25. Also, the overall accuracy have dropped, again it suggests that the model probably overfitted training set."
      ],
      "metadata": {
        "id": "Q1G8rPDfxP3g"
      }
    },
    {
      "cell_type": "markdown",
      "source": [
        "Will be regarded for tuning hyperparametr: max_depth. As it is ,I guess, the most important hyperparametr in Decision Tree model, it controls the complexity of decision tree model. Too high values of it could lead to overfitting and too low values could lead to underfitting. Bigger the value for max_depth bigger tree is going to be built.\n",
        "No other hyperparameters are regarded, as decision tree is very simple nad does not give much space for amount of hyperparametrs, the most important one is max_depth, changing it could change the perfomance result of model drastically."
      ],
      "metadata": {
        "id": "ST4SpI-nyLD9"
      }
    },
    {
      "cell_type": "code",
      "source": [
        "param_grid = {\n",
        "    'max_depth': [10, 15, 20, 50],\n",
        "}\n",
        "\n",
        "model = DecisionTreeClassifier()\n",
        "\n",
        "scorer = make_scorer(f1_score, pos_label=1)\n",
        "\n",
        "gs = GridSearchCV(\n",
        "    estimator=model,\n",
        "    param_grid=param_grid,\n",
        "    scoring=scorer,\n",
        "    cv=5,\n",
        "    n_jobs=-1,\n",
        "    verbose=1\n",
        ")\n",
        "\n",
        "gs.fit(X_train, y_train)\n",
        "\n",
        "print(\"Best Parameters:\", gs.best_params_)\n",
        "print(\"Best F1-Score:\", gs.best_score_)"
      ],
      "metadata": {
        "colab": {
          "base_uri": "https://localhost:8080/"
        },
        "id": "GOPVZbf2jkJW",
        "outputId": "d112b272-cf58-4b7c-a2a9-7b055e817e40"
      },
      "execution_count": null,
      "outputs": [
        {
          "output_type": "stream",
          "name": "stdout",
          "text": [
            "Fitting 5 folds for each of 4 candidates, totalling 20 fits\n",
            "Best Parameters: {'max_depth': 10}\n",
            "Best F1-Score: 0.6754015650303956\n"
          ]
        }
      ]
    },
    {
      "cell_type": "markdown",
      "source": [
        "After completing hyperparameter tuning, we see that the lowest value for max_depth gives us the best model. Decision Tree was already trained with such hyperparametr. Let's build feature importance plot that corresponds to this tree. Can be concluded that the smallest, the simplest tree gives the best perfomance in our case predicting target variable."
      ],
      "metadata": {
        "id": "3bwfzCvQyyZx"
      }
    },
    {
      "cell_type": "code",
      "source": [
        "def plot_feature_importance(model, feature_names):\n",
        "    importance = model.feature_importances_\n",
        "\n",
        "    importance_df = pd.DataFrame({\n",
        "        'Feature': feature_names,\n",
        "        'Importance': importance\n",
        "    }).sort_values(by='Importance', ascending=False)\n",
        "\n",
        "    plt.figure(figsize=(10, 6))\n",
        "    plt.bar(importance_df['Feature'], importance_df['Importance'], color='skyblue')\n",
        "    plt.xticks(rotation=90)\n",
        "    plt.title('Feature Importance Decision Tree 1')\n",
        "    plt.xlabel('Features')\n",
        "    plt.ylabel('Importance')\n",
        "    plt.tight_layout()\n",
        "    plt.show()\n",
        "\n",
        "plot_feature_importance(dtc1, X_train.columns)"
      ],
      "metadata": {
        "colab": {
          "base_uri": "https://localhost:8080/",
          "height": 607
        },
        "id": "EW3w0qSdlRL8",
        "outputId": "d0756746-09a6-45c3-efc4-85b2307df9ee"
      },
      "execution_count": null,
      "outputs": [
        {
          "output_type": "display_data",
          "data": {
            "text/plain": [
              "<Figure size 1000x600 with 1 Axes>"
            ],
            "image/png": "[encoded data removed]"
          },
          "metadata": {}
        }
      ]
    },
    {
      "cell_type": "markdown",
      "source": [
        "Can be seen that feature Humidity3PM has the highest effect at target feature. Next most important features are: Rainfall, Pressure3pm, WindGustSpeed.\n",
        "So, we can conclude that 1) humidity (percent) at 3pm, 2) the amount of rainfall recorded for the day, 3) atmospheric pressure at 3pm and 4) the speed of the strongest wind gust in the 24 hours to midnight are the most important factors that affect whether tomorrow will rain or not. It is hypothesis though, that those factors are the most important. Different models will give us different most important features that affect target. And we still do not know the sign of dependency between each of those feature with target.\n",
        "\n",
        "Periodical impact on target (from months related features) was not captured by random forests.\n",
        "\n",
        "Impact on target from feature RainToday was not also captured, used."
      ],
      "metadata": {
        "id": "WtAx77X5zSPG"
      }
    },
    {
      "cell_type": "markdown",
      "source": [
        "**Random Forest Classifier**"
      ],
      "metadata": {
        "id": "vPoroQbOmGQK"
      }
    },
    {
      "cell_type": "code",
      "source": [
        "def train_random_forest(X_train, y_train, X_test, y_test, n_estimators=100, max_depth=10):\n",
        "    model = RandomForestClassifier(n_estimators=n_estimators, max_depth=max_depth)\n",
        "    model.fit(X_train, y_train)\n",
        "    y_pred = model.predict(X_test)\n",
        "    print(classification_report(y_test, y_pred, digits=2))\n",
        "    print(f\"Accuracy: {accuracy_score(y_test, y_pred):.2f}\")\n",
        "    return model"
      ],
      "metadata": {
        "id": "6JBC7UG7mCaf"
      },
      "execution_count": null,
      "outputs": []
    },
    {
      "cell_type": "code",
      "source": [
        "rfc1 = train_random_forest(X_train, y_train, X_test, y_test)"
      ],
      "metadata": {
        "colab": {
          "base_uri": "https://localhost:8080/"
        },
        "id": "putaZVJEmsTu",
        "outputId": "886e40f7-9d18-4c8a-93ff-7053858788bd"
      },
      "execution_count": null,
      "outputs": [
        {
          "output_type": "stream",
          "name": "stdout",
          "text": [
            "              precision    recall  f1-score   support\n",
            "\n",
            "           0       0.89      0.87      0.88     20493\n",
            "           1       0.60      0.65      0.62      6064\n",
            "\n",
            "    accuracy                           0.82     26557\n",
            "   macro avg       0.74      0.76      0.75     26557\n",
            "weighted avg       0.83      0.82      0.82     26557\n",
            "\n",
            "Accuracy: 0.82\n"
          ]
        }
      ]
    },
    {
      "cell_type": "markdown",
      "source": [
        "Out of all classified \"Rainy Tomorrows\"(target_est==1) 60% are really \"RainyTomorrows\"(target==1), out of all real \"Rainy Tomorrows\"(target==1) only 65% are identified as \"Rainy Tomorrows\"(target_est==1). F-1 score is relatively a little bit larger than moderate value. Again as for baseline model (max_depth=10, n_estimators=100) results are very good, the baseline model in this case is already pretty complex (because of initial hyperparameters)."
      ],
      "metadata": {
        "id": "lCKb1QoJ2Ngw"
      }
    },
    {
      "cell_type": "code",
      "source": [
        "rfc2 = train_random_forest(X_train, y_train, X_test, y_test, n_estimators=200, max_depth=20)"
      ],
      "metadata": {
        "colab": {
          "base_uri": "https://localhost:8080/"
        },
        "id": "5nLwnLF4mv1s",
        "outputId": "186c06a4-7f0a-42da-d7c0-647987c6b0b6"
      },
      "execution_count": null,
      "outputs": [
        {
          "output_type": "stream",
          "name": "stdout",
          "text": [
            "              precision    recall  f1-score   support\n",
            "\n",
            "           0       0.89      0.90      0.89     20493\n",
            "           1       0.63      0.61      0.62      6064\n",
            "\n",
            "    accuracy                           0.83     26557\n",
            "   macro avg       0.76      0.75      0.76     26557\n",
            "weighted avg       0.83      0.83      0.83     26557\n",
            "\n",
            "Accuracy: 0.83\n"
          ]
        }
      ]
    },
    {
      "cell_type": "markdown",
      "source": [
        "Out of all instances classified as \"Rainy Tomorrows\" 63% are correct, out of all real \"Rainy Tomorrows\" only 61% are identified as being \"Rainy Tomorrows\". F-1 score stayed the same. We can conclude that after increasing hyperparameters values (n_estimators to value of 200 ,baseline was 100) and (max_depth to value of 20, baseline was 10), was reduced number of False Positive mistake and was increased number of False Negative (comparing to previous classifier). The accuracy became higher by one percent.\n",
        "Cannot be said that this model is better than previous Random Forest (the tradeoff between false positive and false negatives just changed, f1 score stayed the same)"
      ],
      "metadata": {
        "id": "MmOfGl5k2vNN"
      }
    },
    {
      "cell_type": "markdown",
      "source": [
        "Will be tuned two main hyperparameters of random forest model - n_estimators and max_depth. N_estimators is responsible for overall number of trees included in model. And max_depth is responsible for maximum allowed depth that each tree can reach. These two hyperparameters are the most important , because they directly control the complexity of the model. More we increase each of them , more increases the complexity of random forest."
      ],
      "metadata": {
        "id": "hyEP0XSKEeq0"
      }
    },
    {
      "cell_type": "code",
      "source": [
        "param_grid = {\n",
        "    'n_estimators': [50, 100, 200],\n",
        "    'max_depth': [10, 15, 20],\n",
        "}\n",
        "\n",
        "model = RandomForestClassifier()\n",
        "\n",
        "scorer = make_scorer(f1_score, pos_label=1)\n",
        "\n",
        "gs = GridSearchCV(\n",
        "    estimator=model,\n",
        "    param_grid=param_grid,\n",
        "    scoring=scorer,\n",
        "    cv=5,\n",
        "    n_jobs=-1,\n",
        "    verbose=1\n",
        ")\n",
        "\n",
        "gs.fit(X_train, y_train)\n",
        "\n",
        "print(\"Best Parameters:\", gs.best_params_)\n",
        "print(\"Best F1-Score:\", gs.best_score_)"
      ],
      "metadata": {
        "colab": {
          "base_uri": "https://localhost:8080/"
        },
        "id": "4rkELl_Ym71x",
        "outputId": "760730ca-9133-403f-a7d6-957e7bfe5518"
      },
      "execution_count": null,
      "outputs": [
        {
          "output_type": "stream",
          "name": "stdout",
          "text": [
            "Fitting 5 folds for each of 9 candidates, totalling 45 fits\n",
            "Best Parameters: {'max_depth': 10, 'n_estimators': 200}\n",
            "Best F1-Score: 0.6994737808678488\n"
          ]
        }
      ]
    },
    {
      "cell_type": "markdown",
      "source": [
        "Best hyperparameters were found: max_depth = 10 and n_estimators = 200. The minimal value for max_depth was chosen and the maximum number estimators was chosen out of parameter values put in search grid. Let's train RF classifier  with these parameters and look at its feature importance plot."
      ],
      "metadata": {
        "id": "tAIwopayFD88"
      }
    },
    {
      "cell_type": "code",
      "source": [
        "rfc3 = train_random_forest(X_train, y_train, X_test, y_test, n_estimators=200, max_depth=10)"
      ],
      "metadata": {
        "colab": {
          "base_uri": "https://localhost:8080/"
        },
        "id": "-r68Q0vYngdz",
        "outputId": "45260fe0-94ce-40bb-9ea3-faee54ac65e3"
      },
      "execution_count": null,
      "outputs": [
        {
          "output_type": "stream",
          "name": "stdout",
          "text": [
            "              precision    recall  f1-score   support\n",
            "\n",
            "           0       0.89      0.87      0.88     20493\n",
            "           1       0.60      0.65      0.62      6064\n",
            "\n",
            "    accuracy                           0.82     26557\n",
            "   macro avg       0.75      0.76      0.75     26557\n",
            "weighted avg       0.83      0.82      0.82     26557\n",
            "\n",
            "Accuracy: 0.82\n"
          ]
        }
      ]
    },
    {
      "cell_type": "markdown",
      "source": [
        "Metrics of this classifier are just the same as for first random forest classifier."
      ],
      "metadata": {
        "id": "uQTiZ7Xr3oW4"
      }
    },
    {
      "cell_type": "code",
      "source": [
        "def plot_feature_importance(model, feature_names):\n",
        "    importance = model.feature_importances_\n",
        "    importance_df = pd.DataFrame({\n",
        "        'Feature': feature_names,\n",
        "        'Importance': importance\n",
        "    }).sort_values(by='Importance', ascending=False)\n",
        "    plt.figure(figsize=(10, 6))\n",
        "    plt.bar(importance_df['Feature'], importance_df['Importance'], color='skyblue')\n",
        "    plt.xticks(rotation=90)\n",
        "    plt.title('Feature Importance RF 3')\n",
        "    plt.xlabel('Features')\n",
        "    plt.ylabel('Importance')\n",
        "    plt.tight_layout()\n",
        "    plt.show()\n",
        "\n",
        "plot_feature_importance(rfc3, X_train.columns)"
      ],
      "metadata": {
        "colab": {
          "base_uri": "https://localhost:8080/",
          "height": 607
        },
        "id": "qIXm4zm0m_Br",
        "outputId": "30b6f2bb-dfc5-4fc3-a06c-951f123e33b2"
      },
      "execution_count": null,
      "outputs": [
        {
          "output_type": "display_data",
          "data": {
            "text/plain": [
              "<Figure size 1000x600 with 1 Axes>"
            ],
            "image/png": "[encoded data removed]"
          },
          "metadata": {}
        }
      ]
    },
    {
      "cell_type": "markdown",
      "source": [
        "Still the most important features are 1) humidity (percent) at 3pm, 2) the amount of rainfall recorded for the day (same results as obtained with decision tree). Random forest identified the relationship between feature RainToday and target feature, which was not previously identified by Decision Tree. In simple words, if today rains, it will affect the probability of it raining tomorrow, this relationship is natural. New important feature identified - Humidity 9 am, with higher importance than for features Humidity3pm, WindGustSpeed(they have approximately the same importance values as had before in Decision Tree). Overall , random forest distributed importance across all features, comparing to decision tree (which basically almost zeroed importance of most features), so new important features were identified.\n",
        "\n",
        "Periodical impact on target (from months related features) was not captured by random forests.\n"
      ],
      "metadata": {
        "id": "MdJsoG-14A6C"
      }
    },
    {
      "cell_type": "markdown",
      "source": [
        "**XGBoost classifier**"
      ],
      "metadata": {
        "id": "9bcWy28fn8Hh"
      }
    },
    {
      "cell_type": "markdown",
      "source": [
        "Weighting will be applied to untuned XGBoost models. Weighting will be applied so to give equal weights to all samples representing negative and positive target feature. Tuned XGBoost will be trained without weighting.\n",
        "During training of XGBoost will be used \"logloss\" loss function , as we are dealing here with binary classification problem."
      ],
      "metadata": {
        "id": "QhI3hI-kK6ws"
      }
    },
    {
      "cell_type": "code",
      "source": [
        "def train_xgboost(X_train, y_train, X_test, y_test, max_depth=3, n_estimators=100, learning_rate=0.1):\n",
        "    pos_class_weight = len(y_train[y_train == 0]) / len(y_train[y_train == 1])\n",
        "    model = XGBClassifier(max_depth=max_depth, n_estimators=n_estimators, learning_rate=learning_rate, use_label_encoder=False, eval_metric='logloss', scale_pos_weight=pos_class_weight)\n",
        "\n",
        "    model.fit(X_train, y_train)\n",
        "    y_pred = model.predict(X_test)\n",
        "\n",
        "    print(classification_report(y_test, y_pred, digits=2))\n",
        "    print(f\"Accuracy: {accuracy_score(y_test, y_pred):.2f}\")\n",
        "    return model"
      ],
      "metadata": {
        "id": "2XVNQpXFn-Vu"
      },
      "execution_count": null,
      "outputs": []
    },
    {
      "cell_type": "code",
      "source": [
        "xgb_model_1 = train_xgboost(X_train, y_train, X_test, y_test)"
      ],
      "metadata": {
        "colab": {
          "base_uri": "https://localhost:8080/"
        },
        "id": "7s_QBhFJoKyf",
        "outputId": "2456ef57-78e1-41c2-fe2b-1d25d7709c0b"
      },
      "execution_count": null,
      "outputs": [
        {
          "output_type": "stream",
          "name": "stderr",
          "text": [
            "/usr/local/lib/python3.10/dist-packages/xgboost/core.py:158: UserWarning: [15:52:21] WARNING: /workspace/src/learner.cc:740: \n",
            "Parameters: { \"use_label_encoder\" } are not used.\n",
            "\n",
            "  warnings.warn(smsg, UserWarning)\n"
          ]
        },
        {
          "output_type": "stream",
          "name": "stdout",
          "text": [
            "              precision    recall  f1-score   support\n",
            "\n",
            "           0       0.91      0.79      0.85     20493\n",
            "           1       0.51      0.74      0.60      6064\n",
            "\n",
            "    accuracy                           0.78     26557\n",
            "   macro avg       0.71      0.77      0.73     26557\n",
            "weighted avg       0.82      0.78      0.79     26557\n",
            "\n",
            "Accuracy: 0.78\n"
          ]
        }
      ]
    },
    {
      "cell_type": "markdown",
      "source": [
        "Can be seen that precision for positive class is 51% and recall is 74%. Meaning that the False Positive error is high for positive class and False Negative is pretty low. So, classifier is pretty good at identifying real Rainy Tomorrows, but makes a lot of mispredictions classifying almost 50% of tomorrows as rainy incorrectly. That happened probably because we used weighting in this model, now model treats two classes equaly."
      ],
      "metadata": {
        "id": "08CKOdU5Lgol"
      }
    },
    {
      "cell_type": "code",
      "source": [
        "xgb_model_2 = train_xgboost(X_train, y_train, X_test, y_test, max_depth=5, n_estimators=200, learning_rate=0.05)"
      ],
      "metadata": {
        "colab": {
          "base_uri": "https://localhost:8080/"
        },
        "id": "kpG4GX0-oj3i",
        "outputId": "9a6f32ab-7868-46d5-92dc-4581e7410a50"
      },
      "execution_count": null,
      "outputs": [
        {
          "output_type": "stream",
          "name": "stderr",
          "text": [
            "/usr/local/lib/python3.10/dist-packages/xgboost/core.py:158: UserWarning: [12:25:09] WARNING: /workspace/src/learner.cc:740: \n",
            "Parameters: { \"use_label_encoder\" } are not used.\n",
            "\n",
            "  warnings.warn(smsg, UserWarning)\n"
          ]
        },
        {
          "output_type": "stream",
          "name": "stdout",
          "text": [
            "              precision    recall  f1-score   support\n",
            "\n",
            "           0       0.92      0.80      0.85     20493\n",
            "           1       0.53      0.75      0.62      6064\n",
            "\n",
            "    accuracy                           0.79     26557\n",
            "   macro avg       0.72      0.78      0.74     26557\n",
            "weighted avg       0.83      0.79      0.80     26557\n",
            "\n",
            "Accuracy: 0.79\n"
          ]
        }
      ]
    },
    {
      "cell_type": "markdown",
      "source": [
        "After incresing hyperparameter values: max_depth to 5, n_estimators to 200 and decreasing learning rate to 0.05, classifier did better job. Precision went higher, as well recall for positive class. F1 score also became higher, which suggest that choosing hyperparameter change direction was correct."
      ],
      "metadata": {
        "id": "1TB3F7y5McsS"
      }
    },
    {
      "cell_type": "code",
      "source": [
        "xgb_model_3 = train_xgboost(X_train, y_train, X_test, y_test, max_depth=5, n_estimators=300, learning_rate=0.05)"
      ],
      "metadata": {
        "colab": {
          "base_uri": "https://localhost:8080/"
        },
        "id": "5pU3S8iDIYdP",
        "outputId": "c6c25600-9a58-499a-c437-28583fca84c8"
      },
      "execution_count": null,
      "outputs": [
        {
          "output_type": "stream",
          "name": "stderr",
          "text": [
            "/usr/local/lib/python3.10/dist-packages/xgboost/core.py:158: UserWarning: [16:48:22] WARNING: /workspace/src/learner.cc:740: \n",
            "Parameters: { \"use_label_encoder\" } are not used.\n",
            "\n",
            "  warnings.warn(smsg, UserWarning)\n"
          ]
        },
        {
          "output_type": "stream",
          "name": "stdout",
          "text": [
            "              precision    recall  f1-score   support\n",
            "\n",
            "           0       0.92      0.80      0.86     20493\n",
            "           1       0.53      0.75      0.62      6064\n",
            "\n",
            "    accuracy                           0.79     26557\n",
            "   macro avg       0.72      0.78      0.74     26557\n",
            "weighted avg       0.83      0.79      0.80     26557\n",
            "\n",
            "Accuracy: 0.79\n"
          ]
        }
      ]
    },
    {
      "cell_type": "markdown",
      "source": [
        "After increasing number of estimators from 200 to 300(all other hyperparametrs are the same as were for 2 XGBoost classifier), no change can be seen suggesting that XGBoost found optimal solution with previous hyperparameter settings (max_depth=5, n_estimators = 200, learning_rate=0.05)."
      ],
      "metadata": {
        "id": "nKuaiyD9M9yc"
      }
    },
    {
      "cell_type": "markdown",
      "source": [
        "For XGBoost will be tuned hyperparameters: max_depth, n_estimators (the reason for choosing them is the same as in previous cases for Decision Trees and Random Forests). Also will be tuned learning_rate hyperparameter , which affects the weight assigned to each tree during training, as well it helps to prevent algorithm from overfitting. Again, those could be considered as one of the most important hyperparameters in XGBoost model."
      ],
      "metadata": {
        "id": "XkRsC6ODbMJD"
      }
    },
    {
      "cell_type": "code",
      "source": [
        "param_grid = {\n",
        "    'max_depth': [3, 5, 10],\n",
        "    'n_estimators': [50, 100, 200],\n",
        "    'learning_rate': [0.1, 0.05, 0.01]\n",
        "}\n",
        "\n",
        "pos_class_weight = len(y_train[y_train == 0]) / len(y_train[y_train == 1])\n",
        "model = XGBClassifier(use_label_encoder=False, eval_metric='logloss', scale_pos_weight=pos_class_weight)\n",
        "\n",
        "scorer = make_scorer(f1_score, pos_label=1)\n",
        "\n",
        "gs = GridSearchCV(\n",
        "    estimator=model,\n",
        "    param_grid=param_grid,\n",
        "    scoring=scorer,\n",
        "    cv=5,\n",
        "    n_jobs=-1,\n",
        "    verbose=1\n",
        ")\n",
        "\n",
        "gs.fit(X_train, y_train)\n",
        "\n",
        "print(\"Best Parameters:\", gs.best_params_)\n",
        "print(\"Best F1-Score:\", gs.best_score_)"
      ],
      "metadata": {
        "colab": {
          "base_uri": "https://localhost:8080/"
        },
        "id": "OGRtmwYAomWi",
        "outputId": "295b0f37-528b-4909-a267-cac716fe7ea9"
      },
      "execution_count": null,
      "outputs": [
        {
          "output_type": "stream",
          "name": "stdout",
          "text": [
            "Fitting 5 folds for each of 27 candidates, totalling 135 fits\n"
          ]
        },
        {
          "output_type": "stream",
          "name": "stderr",
          "text": [
            "/usr/local/lib/python3.10/dist-packages/xgboost/core.py:158: UserWarning: [17:01:48] WARNING: /workspace/src/learner.cc:740: \n",
            "Parameters: { \"use_label_encoder\" } are not used.\n",
            "\n",
            "  warnings.warn(smsg, UserWarning)\n"
          ]
        },
        {
          "output_type": "stream",
          "name": "stdout",
          "text": [
            "Best Parameters: {'learning_rate': 0.1, 'max_depth': 5, 'n_estimators': 200}\n",
            "Best F1-Score: 0.7321793119970769\n"
          ]
        }
      ]
    },
    {
      "cell_type": "code",
      "source": [
        "xgb_model_4 = train_xgboost(X_train, y_train, X_test, y_test, max_depth=5, n_estimators=200, learning_rate=0.1)"
      ],
      "metadata": {
        "colab": {
          "base_uri": "https://localhost:8080/"
        },
        "id": "7W1KfUeMKPqG",
        "outputId": "c031eb0f-e22d-4a4a-94e7-2aa79ed88fef"
      },
      "execution_count": null,
      "outputs": [
        {
          "output_type": "stream",
          "name": "stderr",
          "text": [
            "/usr/local/lib/python3.10/dist-packages/xgboost/core.py:158: UserWarning: [17:02:16] WARNING: /workspace/src/learner.cc:740: \n",
            "Parameters: { \"use_label_encoder\" } are not used.\n",
            "\n",
            "  warnings.warn(smsg, UserWarning)\n"
          ]
        },
        {
          "output_type": "stream",
          "name": "stdout",
          "text": [
            "              precision    recall  f1-score   support\n",
            "\n",
            "           0       0.92      0.80      0.86     20493\n",
            "           1       0.53      0.75      0.62      6064\n",
            "\n",
            "    accuracy                           0.79     26557\n",
            "   macro avg       0.72      0.78      0.74     26557\n",
            "weighted avg       0.83      0.79      0.80     26557\n",
            "\n",
            "Accuracy: 0.79\n"
          ]
        }
      ]
    },
    {
      "cell_type": "markdown",
      "source": [
        "Tuned XGBoost classifier (with weighting) showed the same results as previous two models. Let's train the same as tuned XGBoost classifier , but without weighting, to see if there is difference in perfomance."
      ],
      "metadata": {
        "id": "tdUvAcRBXgrQ"
      }
    },
    {
      "cell_type": "code",
      "source": [
        "xgBoostNoWeight = XGBClassifier(max_depth=5, n_estimators=200, learning_rate=0.1, use_label_encoder=False, eval_metric='logloss')\n",
        "xgBoostNoWeight.fit(X_train, y_train)\n",
        "y_pred = xgBoostNoWeight.predict(X_test)\n",
        "\n",
        "print(classification_report(y_test, y_pred, digits=2))\n",
        "print(f\"Accuracy: {accuracy_score(y_test, y_pred):.2f}\")"
      ],
      "metadata": {
        "colab": {
          "base_uri": "https://localhost:8080/"
        },
        "id": "pzE7C1rhINWK",
        "outputId": "5fce027c-176b-4167-8884-bd0ca5ef980c"
      },
      "execution_count": null,
      "outputs": [
        {
          "output_type": "stream",
          "name": "stderr",
          "text": [
            "/usr/local/lib/python3.10/dist-packages/xgboost/core.py:158: UserWarning: [17:06:25] WARNING: /workspace/src/learner.cc:740: \n",
            "Parameters: { \"use_label_encoder\" } are not used.\n",
            "\n",
            "  warnings.warn(smsg, UserWarning)\n"
          ]
        },
        {
          "output_type": "stream",
          "name": "stdout",
          "text": [
            "              precision    recall  f1-score   support\n",
            "\n",
            "           0       0.90      0.86      0.88     20493\n",
            "           1       0.59      0.67      0.63      6064\n",
            "\n",
            "    accuracy                           0.82     26557\n",
            "   macro avg       0.75      0.77      0.76     26557\n",
            "weighted avg       0.83      0.82      0.82     26557\n",
            "\n",
            "Accuracy: 0.82\n"
          ]
        }
      ]
    },
    {
      "cell_type": "markdown",
      "source": [
        "The difference is present, overall XGBoost classifier showed by 0.01 unit higher f1-score, comparing to tuned XGBoost with weighting. Though recall for positive class decreased. In our case we assume that this XGBoost classifier did better job, as f1 score is higher for him. But in general, if we cared more about recall of positive target class, we would choose tuned, with weighting XGBoost."
      ],
      "metadata": {
        "id": "zEqVEt0QIyCB"
      }
    },
    {
      "cell_type": "code",
      "source": [
        "def plot_feature_importance(model, feature_names):\n",
        "    importance = model.feature_importances_\n",
        "    importance_df = pd.DataFrame({\n",
        "        'Feature': feature_names,\n",
        "        'Importance': importance\n",
        "    }).sort_values(by='Importance', ascending=False)\n",
        "    plt.figure(figsize=(10, 6))\n",
        "    plt.bar(importance_df['Feature'], importance_df['Importance'], color='skyblue')\n",
        "    plt.xticks(rotation=90)\n",
        "    plt.title('Feature Importance XGBoost: tuned, without weighting')\n",
        "    plt.xlabel('Features')\n",
        "    plt.ylabel('Importance')\n",
        "    plt.tight_layout()\n",
        "    plt.show()\n",
        "\n",
        "plot_feature_importance(xgb_model_2, X_train.columns)"
      ],
      "metadata": {
        "colab": {
          "base_uri": "https://localhost:8080/",
          "height": 607
        },
        "id": "R44dbPbFoo52",
        "outputId": "b613e8dd-d298-483e-d2e2-94f41b0e617a"
      },
      "execution_count": null,
      "outputs": [
        {
          "output_type": "display_data",
          "data": {
            "text/plain": [
              "<Figure size 1000x600 with 1 Axes>"
            ],
            "image/png": "[encoded data removed]"
          },
          "metadata": {}
        }
      ]
    },
    {
      "cell_type": "markdown",
      "source": [
        "XGBoost model as can be seen relies when predicting target mostly on the feature RainToday. Other somewhat important features are Humidity3pm, Rainfall, WindGustSpeed, Pressure3pm. All other features contribute very little while making predictions, XGBoost identified them as unimportant. The high impact of feature RainToday on predictions for RainTomorrow is very natural, explainable and expected, as noted before in part for random forests. It probably much more likely that tomorrow is going to rain , if it was today.  \n",
        "The importance plot for XGBoost model is differs severely from importnace plot for Decision Tree model and Random Forest model.\n",
        "\n",
        "Periodical impact on target (from months related features) was not captured by XGBoost."
      ],
      "metadata": {
        "id": "u69-_bGrKsA9"
      }
    },
    {
      "cell_type": "markdown",
      "source": [
        "**Conclusion**\n",
        "\n",
        "*Results of previous work*  \n",
        "Best Logistic Regression(penalty='elasticnet', l1_ratio=0.5, weighted):  \n",
        "precision=0.59, recall=0.65, f1-score=0.62(for positive class)\n",
        "\n",
        "Best KNN(n_neigbours=10):   \n",
        "precision=0.5, recall=0.5, f1-score=0.5 (for positive class)\n",
        "\n",
        "Best Naive Baes(weighted):   \n",
        "precision=,0.34 recall=0.71, f1-score=0.46 (for positive class)\n",
        "\n",
        "Best SVM (kernel='rbf'):     \n",
        "precision=0.45, recall=0.44, f1-score=0.45 (for positive class)\n",
        "\n",
        "*Results of current work*     \n",
        "Best Decision Tree (max_depth=10):   \n",
        "precision=0.56, recall=0.63, f1-score=0.59 (for positive class)\n",
        "\n",
        "Best Random Forest (n_estimators=100, max_depth=10):  \n",
        "precision=0.6, recall=0.65, f1-score=0.62 (for positive class)\n",
        "\n",
        "Best XGBoost (max_depth=5, n_estimators=200, learning_rate=0.1, NON weighted):  \n",
        "precision=0.59, recall=0.67, f1-score=0.63 (for positive class)\n",
        "\n",
        "As can be seen, f1-score is equal to 0.62 (for positive class) for models: Logistic Regression, Random Forest.\n",
        "The best model XGBoost has the f1-score equal to 0.63, which makes it the best classifier out of all presented in this notebook and out of all presented in previous notebook.\n",
        "\n",
        "---\n",
        "\n",
        "Also we have seen that such features could be cosidered as very important in our dataset for predicting target, most influencial: RainToday, Humidity3pm, Rainfall. It is derived from built feature importance plots of each classifier.\n",
        "\n",
        "---\n",
        "\n",
        "Also we have seen than random forests make use of fairly all features for modeling (some with less weight, some with higher, but all features are engaged). Which is different for decision tree and xgboost models, as they can zero some features importance at all or almost at all, which was seen from feature importance plots.\n"
      ],
      "metadata": {
        "id": "YNApmML8oLGc"
      }
    }
  ]
}