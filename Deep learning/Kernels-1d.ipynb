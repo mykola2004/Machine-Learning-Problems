{
  "nbformat": 4,
  "nbformat_minor": 0,
  "metadata": {
    "colab": {
      "provenance": []
    },
    "kernelspec": {
      "name": "python3",
      "display_name": "Python 3"
    },
    "language_info": {
      "name": "python"
    }
  },
  "cells": [
    {
      "cell_type": "markdown",
      "source": [
        "**Description**  \n",
        "In this notebook will be implemented 1d convolution operation."
      ],
      "metadata": {
        "id": "xJJVyWFGjpaS"
      }
    },
    {
      "cell_type": "code",
      "source": [
        "import numpy as np"
      ],
      "metadata": {
        "id": "mjtSwBN3iIXF"
      },
      "execution_count": null,
      "outputs": []
    },
    {
      "cell_type": "markdown",
      "source": [
        "**Auxiliary functions**"
      ],
      "metadata": {
        "id": "t-txyk82j25n"
      }
    },
    {
      "cell_type": "code",
      "source": [
        "def rotate_vector(vector):\n",
        "  rotated = []\n",
        "  for i in range(len(vector)):\n",
        "    rotated.append(vector[len(vector)-1-i])\n",
        "  return rotated"
      ],
      "metadata": {
        "id": "KerPuBavfJ_-"
      },
      "execution_count": null,
      "outputs": []
    },
    {
      "cell_type": "code",
      "source": [
        "def dot_product(arr1, arr2):\n",
        "  assert len(arr1) == len(arr2), \"For dot product vectors should be of same length\"\n",
        "  res = 0\n",
        "  for i in range(len(arr1)):\n",
        "    res += arr1[i]*arr2[i]\n",
        "  return res"
      ],
      "metadata": {
        "id": "igEyDsBtKQZ-"
      },
      "execution_count": null,
      "outputs": []
    },
    {
      "cell_type": "markdown",
      "source": [
        "**Main function realisation**"
      ],
      "metadata": {
        "id": "bOaR9QnnkGEg"
      }
    },
    {
      "cell_type": "code",
      "source": [
        "def conv1d(arr_in, kernel, step, padding=0):\n",
        "  arr_out = []\n",
        "  assert step != 0, \"Step should be > 0\"\n",
        "  assert len(kernel) <= len(arr_in), \"Kernel should be smaller than input array\"\n",
        "  assert padding >= 0, \"Padding should be > 0\"\n",
        "  assert len(kernel) != 0, \"Kernel cannot be empty\"\n",
        "  arr_in = [0]*padding + arr_in + [0]*padding\n",
        "  kernel = rotate_vector(kernel)\n",
        "  for i in range(0, len(arr_in)-len(kernel) + 1, step):\n",
        "    arr_out.append(dot_product(arr_in[i:i+len(kernel)], kernel))\n",
        "  return arr_out"
      ],
      "metadata": {
        "id": "ArqEBXtPHTln"
      },
      "execution_count": null,
      "outputs": []
    },
    {
      "cell_type": "markdown",
      "source": [
        "**Some tests**  \n",
        "Comparing to implemented function *convolve* from module *numpy*"
      ],
      "metadata": {
        "id": "hQp8HKJ_htmm"
      }
    },
    {
      "cell_type": "code",
      "source": [
        "print(conv1d(arr_in = [1, 0, 2, 3, 4, 1, 0, 9], kernel=[1, 0, 1, 0], step=1))\n",
        "np.convolve([1, 0, 2, 3, 4, 1, 0, 9], [1, 0, 1, 0], 'valid')"
      ],
      "metadata": {
        "colab": {
          "base_uri": "https://localhost:8080/"
        },
        "id": "rHSg1wwNIEbl",
        "outputId": "03fba1d1-5bba-4191-bce5-e631096397da"
      },
      "execution_count": null,
      "outputs": [
        {
          "output_type": "stream",
          "name": "stdout",
          "text": [
            "[3, 6, 4, 4, 10]\n"
          ]
        },
        {
          "output_type": "execute_result",
          "data": {
            "text/plain": [
              "array([ 3,  6,  4,  4, 10])"
            ]
          },
          "metadata": {},
          "execution_count": 6
        }
      ]
    },
    {
      "cell_type": "code",
      "source": [
        "print(conv1d(arr_in = [1, 2, 3, 4, 5], kernel=[1, 0, -1], step=1))\n",
        "np.convolve([1, 2, 3, 4, 5], [1, 0, -1], 'valid')"
      ],
      "metadata": {
        "colab": {
          "base_uri": "https://localhost:8080/"
        },
        "id": "KOLnC8VHMy1k",
        "outputId": "00548256-cd7b-4660-8ea8-be416adfce48"
      },
      "execution_count": null,
      "outputs": [
        {
          "output_type": "stream",
          "name": "stdout",
          "text": [
            "[2, 2, 2]\n"
          ]
        },
        {
          "output_type": "execute_result",
          "data": {
            "text/plain": [
              "array([2, 2, 2])"
            ]
          },
          "metadata": {},
          "execution_count": 7
        }
      ]
    },
    {
      "cell_type": "code",
      "source": [
        "print(conv1d(arr_in = [1, 2, 3, 4, 5, 0], kernel=[], step=1))\n",
        "np.convolve([1, 2, 3, 4, 5], [], 'valid')"
      ],
      "metadata": {
        "colab": {
          "base_uri": "https://localhost:8080/",
          "height": 292
        },
        "id": "jlvYUGvVN0dw",
        "outputId": "cfcb5e1b-0f43-4a22-de18-e435f4892956"
      },
      "execution_count": null,
      "outputs": [
        {
          "output_type": "error",
          "ename": "AssertionError",
          "evalue": "Kernel cannot be empty",
          "traceback": [
            "\u001b[0;31m---------------------------------------------------------------------------\u001b[0m",
            "\u001b[0;31mAssertionError\u001b[0m                            Traceback (most recent call last)",
            "\u001b[0;32m<ipython-input-8-8feb0a9f2158>\u001b[0m in \u001b[0;36m<cell line: 1>\u001b[0;34m()\u001b[0m\n\u001b[0;32m----> 1\u001b[0;31m \u001b[0mprint\u001b[0m\u001b[0;34m(\u001b[0m\u001b[0mconv1d\u001b[0m\u001b[0;34m(\u001b[0m\u001b[0marr_in\u001b[0m \u001b[0;34m=\u001b[0m \u001b[0;34m[\u001b[0m\u001b[0;36m1\u001b[0m\u001b[0;34m,\u001b[0m \u001b[0;36m2\u001b[0m\u001b[0;34m,\u001b[0m \u001b[0;36m3\u001b[0m\u001b[0;34m,\u001b[0m \u001b[0;36m4\u001b[0m\u001b[0;34m,\u001b[0m \u001b[0;36m5\u001b[0m\u001b[0;34m,\u001b[0m \u001b[0;36m0\u001b[0m\u001b[0;34m]\u001b[0m\u001b[0;34m,\u001b[0m \u001b[0mkernel\u001b[0m\u001b[0;34m=\u001b[0m\u001b[0;34m[\u001b[0m\u001b[0;34m]\u001b[0m\u001b[0;34m,\u001b[0m \u001b[0mstep\u001b[0m\u001b[0;34m=\u001b[0m\u001b[0;36m1\u001b[0m\u001b[0;34m)\u001b[0m\u001b[0;34m)\u001b[0m\u001b[0;34m\u001b[0m\u001b[0;34m\u001b[0m\u001b[0m\n\u001b[0m\u001b[1;32m      2\u001b[0m \u001b[0mnp\u001b[0m\u001b[0;34m.\u001b[0m\u001b[0mconvolve\u001b[0m\u001b[0;34m(\u001b[0m\u001b[0;34m[\u001b[0m\u001b[0;36m1\u001b[0m\u001b[0;34m,\u001b[0m \u001b[0;36m2\u001b[0m\u001b[0;34m,\u001b[0m \u001b[0;36m3\u001b[0m\u001b[0;34m,\u001b[0m \u001b[0;36m4\u001b[0m\u001b[0;34m,\u001b[0m \u001b[0;36m5\u001b[0m\u001b[0;34m]\u001b[0m\u001b[0;34m,\u001b[0m \u001b[0;34m[\u001b[0m\u001b[0;34m]\u001b[0m\u001b[0;34m,\u001b[0m \u001b[0;34m'valid'\u001b[0m\u001b[0;34m)\u001b[0m\u001b[0;34m\u001b[0m\u001b[0;34m\u001b[0m\u001b[0m\n",
            "\u001b[0;32m<ipython-input-5-ad59837de4a4>\u001b[0m in \u001b[0;36mconv1d\u001b[0;34m(arr_in, kernel, step, padding)\u001b[0m\n\u001b[1;32m      4\u001b[0m   \u001b[0;32massert\u001b[0m \u001b[0mlen\u001b[0m\u001b[0;34m(\u001b[0m\u001b[0mkernel\u001b[0m\u001b[0;34m)\u001b[0m \u001b[0;34m<=\u001b[0m \u001b[0mlen\u001b[0m\u001b[0;34m(\u001b[0m\u001b[0marr_in\u001b[0m\u001b[0;34m)\u001b[0m\u001b[0;34m,\u001b[0m \u001b[0;34m\"Kernel should be smaller than input array\"\u001b[0m\u001b[0;34m\u001b[0m\u001b[0;34m\u001b[0m\u001b[0m\n\u001b[1;32m      5\u001b[0m   \u001b[0;32massert\u001b[0m \u001b[0mpadding\u001b[0m \u001b[0;34m>=\u001b[0m \u001b[0;36m0\u001b[0m\u001b[0;34m,\u001b[0m \u001b[0;34m\"Padding should be > 0\"\u001b[0m\u001b[0;34m\u001b[0m\u001b[0;34m\u001b[0m\u001b[0m\n\u001b[0;32m----> 6\u001b[0;31m   \u001b[0;32massert\u001b[0m \u001b[0mlen\u001b[0m\u001b[0;34m(\u001b[0m\u001b[0mkernel\u001b[0m\u001b[0;34m)\u001b[0m \u001b[0;34m!=\u001b[0m \u001b[0;36m0\u001b[0m\u001b[0;34m,\u001b[0m \u001b[0;34m\"Kernel cannot be empty\"\u001b[0m\u001b[0;34m\u001b[0m\u001b[0;34m\u001b[0m\u001b[0m\n\u001b[0m\u001b[1;32m      7\u001b[0m   \u001b[0marr_in\u001b[0m \u001b[0;34m=\u001b[0m \u001b[0;34m[\u001b[0m\u001b[0;36m0\u001b[0m\u001b[0;34m]\u001b[0m\u001b[0;34m*\u001b[0m\u001b[0mpadding\u001b[0m \u001b[0;34m+\u001b[0m \u001b[0marr_in\u001b[0m \u001b[0;34m+\u001b[0m \u001b[0;34m[\u001b[0m\u001b[0;36m0\u001b[0m\u001b[0;34m]\u001b[0m\u001b[0;34m*\u001b[0m\u001b[0mpadding\u001b[0m\u001b[0;34m\u001b[0m\u001b[0;34m\u001b[0m\u001b[0m\n\u001b[1;32m      8\u001b[0m   \u001b[0mkernel\u001b[0m \u001b[0;34m=\u001b[0m \u001b[0mrotate_vector\u001b[0m\u001b[0;34m(\u001b[0m\u001b[0mkernel\u001b[0m\u001b[0;34m)\u001b[0m\u001b[0;34m\u001b[0m\u001b[0;34m\u001b[0m\u001b[0m\n",
            "\u001b[0;31mAssertionError\u001b[0m: Kernel cannot be empty"
          ]
        }
      ]
    },
    {
      "cell_type": "code",
      "source": [
        "np.convolve([1, 2, 3, 4, 5], [], 'valid')"
      ],
      "metadata": {
        "colab": {
          "base_uri": "https://localhost:8080/",
          "height": 274
        },
        "id": "ZvDeA9bnjF7-",
        "outputId": "21fecfca-499d-4377-dd78-141231be20f3"
      },
      "execution_count": null,
      "outputs": [
        {
          "output_type": "error",
          "ename": "ValueError",
          "evalue": "v cannot be empty",
          "traceback": [
            "\u001b[0;31m---------------------------------------------------------------------------\u001b[0m",
            "\u001b[0;31mValueError\u001b[0m                                Traceback (most recent call last)",
            "\u001b[0;32m<ipython-input-9-49d484074e7d>\u001b[0m in \u001b[0;36m<cell line: 1>\u001b[0;34m()\u001b[0m\n\u001b[0;32m----> 1\u001b[0;31m \u001b[0mnp\u001b[0m\u001b[0;34m.\u001b[0m\u001b[0mconvolve\u001b[0m\u001b[0;34m(\u001b[0m\u001b[0;34m[\u001b[0m\u001b[0;36m1\u001b[0m\u001b[0;34m,\u001b[0m \u001b[0;36m2\u001b[0m\u001b[0;34m,\u001b[0m \u001b[0;36m3\u001b[0m\u001b[0;34m,\u001b[0m \u001b[0;36m4\u001b[0m\u001b[0;34m,\u001b[0m \u001b[0;36m5\u001b[0m\u001b[0;34m]\u001b[0m\u001b[0;34m,\u001b[0m \u001b[0;34m[\u001b[0m\u001b[0;34m]\u001b[0m\u001b[0;34m,\u001b[0m \u001b[0;34m'valid'\u001b[0m\u001b[0;34m)\u001b[0m\u001b[0;34m\u001b[0m\u001b[0;34m\u001b[0m\u001b[0m\n\u001b[0m",
            "\u001b[0;32m/usr/local/lib/python3.10/dist-packages/numpy/core/numeric.py\u001b[0m in \u001b[0;36mconvolve\u001b[0;34m(a, v, mode)\u001b[0m\n\u001b[1;32m    831\u001b[0m         \u001b[0;32mraise\u001b[0m \u001b[0mValueError\u001b[0m\u001b[0;34m(\u001b[0m\u001b[0;34m'a cannot be empty'\u001b[0m\u001b[0;34m)\u001b[0m\u001b[0;34m\u001b[0m\u001b[0;34m\u001b[0m\u001b[0m\n\u001b[1;32m    832\u001b[0m     \u001b[0;32mif\u001b[0m \u001b[0mlen\u001b[0m\u001b[0;34m(\u001b[0m\u001b[0mv\u001b[0m\u001b[0;34m)\u001b[0m \u001b[0;34m==\u001b[0m \u001b[0;36m0\u001b[0m\u001b[0;34m:\u001b[0m\u001b[0;34m\u001b[0m\u001b[0;34m\u001b[0m\u001b[0m\n\u001b[0;32m--> 833\u001b[0;31m         \u001b[0;32mraise\u001b[0m \u001b[0mValueError\u001b[0m\u001b[0;34m(\u001b[0m\u001b[0;34m'v cannot be empty'\u001b[0m\u001b[0;34m)\u001b[0m\u001b[0;34m\u001b[0m\u001b[0;34m\u001b[0m\u001b[0m\n\u001b[0m\u001b[1;32m    834\u001b[0m     \u001b[0;32mreturn\u001b[0m \u001b[0mmultiarray\u001b[0m\u001b[0;34m.\u001b[0m\u001b[0mcorrelate\u001b[0m\u001b[0;34m(\u001b[0m\u001b[0ma\u001b[0m\u001b[0;34m,\u001b[0m \u001b[0mv\u001b[0m\u001b[0;34m[\u001b[0m\u001b[0;34m:\u001b[0m\u001b[0;34m:\u001b[0m\u001b[0;34m-\u001b[0m\u001b[0;36m1\u001b[0m\u001b[0;34m]\u001b[0m\u001b[0;34m,\u001b[0m \u001b[0mmode\u001b[0m\u001b[0;34m)\u001b[0m\u001b[0;34m\u001b[0m\u001b[0;34m\u001b[0m\u001b[0m\n\u001b[1;32m    835\u001b[0m \u001b[0;34m\u001b[0m\u001b[0m\n",
            "\u001b[0;31mValueError\u001b[0m: v cannot be empty"
          ]
        }
      ]
    },
    {
      "cell_type": "code",
      "source": [
        "print(conv1d(arr_in = [3, 6, 8, 2, 1, 4, 7, 9], kernel=[4, 0, 6, 3, 2], step=1, padding=2))\n",
        "np.convolve([3, 6, 8, 2, 1, 4, 7, 9], [4, 0, 6, 3, 2], 'same')"
      ],
      "metadata": {
        "id": "vxY8oA7VSfnb"
      },
      "execution_count": null,
      "outputs": []
    },
    {
      "cell_type": "code",
      "source": [
        "print(conv1d(arr_in = [1, 2, 3], kernel = [0, 1, 0.5], step=1))\n",
        "np.convolve([1, 2, 3], [0, 1, 0.5], 'valid')"
      ],
      "metadata": {
        "colab": {
          "base_uri": "https://localhost:8080/"
        },
        "id": "niEdWxdSgXq5",
        "outputId": "e3a907d3-935f-44bb-c859-fadcbdd3d9af"
      },
      "execution_count": null,
      "outputs": [
        {
          "output_type": "stream",
          "name": "stdout",
          "text": [
            "[2.5]\n"
          ]
        },
        {
          "output_type": "execute_result",
          "data": {
            "text/plain": [
              "array([2.5])"
            ]
          },
          "metadata": {},
          "execution_count": 10
        }
      ]
    },
    {
      "cell_type": "code",
      "source": [
        "print(conv1d(arr_in = [1, 2, 3], kernel = [0, 1, 0.5], padding=2, step=1))\n",
        "np.convolve([1, 2, 3], [0, 1, 0.5])"
      ],
      "metadata": {
        "colab": {
          "base_uri": "https://localhost:8080/"
        },
        "id": "Z3sGGDZvg4ZY",
        "outputId": "51a819c2-c7a2-4ea6-85c6-609bc7303700"
      },
      "execution_count": null,
      "outputs": [
        {
          "output_type": "stream",
          "name": "stdout",
          "text": [
            "[0.0, 1.0, 2.5, 4.0, 1.5]\n"
          ]
        },
        {
          "output_type": "execute_result",
          "data": {
            "text/plain": [
              "array([0. , 1. , 2.5, 4. , 1.5])"
            ]
          },
          "metadata": {},
          "execution_count": 11
        }
      ]
    },
    {
      "cell_type": "markdown",
      "source": [
        "**Kernel size**  \n",
        "Too big kernel will shrink size of initial data file greatly(can be addressed as noise deletion),  but from other side will also not preserve much of important information present in initial file. The reverse relationship exists for too small kernels (too small kernel will preserve too much of initial noise). So, it is very important picking up kernels of the right size that will considerably reduce size of initial data , as well as preserve acceptable amount of important information from initial data.\n",
        "\n",
        "For example, let's consider following two cases:   \n",
        "1) used smaller kernel;   \n",
        "2) used much bigger kernel;   \n",
        "In case of smaller kernel was obtained processed array that contains much  detailed information about structure of initial array, comparing to processed array from second case.  \n",
        "Though, in second case was obtained much smaller array comparing to obtained in first case."
      ],
      "metadata": {
        "id": "OS6Ir3JCg2KO"
      }
    },
    {
      "cell_type": "code",
      "source": [
        "print(conv1d(arr_in = [1, 1, 1, 1, 1, 4, 4, 4, 4, 4, 0, 0, 0, 0, 0, -100, -100, -100, -100, -100, 100, 100, 100, 100, 100, 23, 23, 23, 23, 23], kernel=[1, 1, 1, 1, 1, 1, 1, 1, 1, 1, 1, 1, 1, 1], step=1))\n"
      ],
      "metadata": {
        "colab": {
          "base_uri": "https://localhost:8080/"
        },
        "id": "sre9KsSAhyrd",
        "outputId": "2103c54b-ad5d-4458-ba6c-3e7c249303e9"
      },
      "execution_count": null,
      "outputs": [
        {
          "output_type": "stream",
          "name": "stdout",
          "text": [
            "[25, 24, -77, -178, -279, -380, -484, -388, -292, -196, -100, 0, 23, 46, 69, 92, 215]\n"
          ]
        }
      ]
    },
    {
      "cell_type": "code",
      "source": [
        "print(conv1d(arr_in = [1, 1, 1, 1, 1, 4, 4, 4, 4, 4, 0, 0, 0, 0, 0, -100, -100, -100, -100, -100, 100, 100, 100, 100, 100, 23, 23, 23, 23, 23], kernel=[1, 1, 1, 1, 1, 1, 1, 1, 1, 1, 1, 1, 1, 1, 1, 1, 1, 1, 1, 1, 1, 1, 1, 1], step=1))"
      ],
      "metadata": {
        "colab": {
          "base_uri": "https://localhost:8080/"
        },
        "id": "9yj1wZOTiGiH",
        "outputId": "f117f112-492a-46b5-83a3-6adf7c25842c"
      },
      "execution_count": null,
      "outputs": [
        {
          "output_type": "stream",
          "name": "stdout",
          "text": [
            "[-75, 24, 46, 68, 90, 112, 131]\n"
          ]
        }
      ]
    },
    {
      "cell_type": "code",
      "source": [],
      "metadata": {
        "id": "2DEnA9ecifA0"
      },
      "execution_count": null,
      "outputs": []
    }
  ]
}